{
 "cells": [
  {
   "cell_type": "markdown",
   "id": "b2b6c311",
   "metadata": {},
   "source": [
    "# Mögliche Klasse für gewichtete ungerichtete Graphen"
   ]
  },
  {
   "cell_type": "code",
   "execution_count": 1,
   "id": "1a1f37e9",
   "metadata": {},
   "outputs": [],
   "source": [
    "import pandas as pd\n",
    "import matplotlib.pyplot as plt\n",
    "import nrw_graph as ng\n",
    "import networkx as nx"
   ]
  },
  {
   "cell_type": "markdown",
   "id": "37db96dd",
   "metadata": {},
   "source": [
    "### Einige Testaufrufe"
   ]
  },
  {
   "cell_type": "code",
   "execution_count": 2,
   "id": "cfe9e1a9",
   "metadata": {},
   "outputs": [],
   "source": [
    "# import nrw_graph as ng\n",
    "\n",
    "MeinGraph = ng.nrw_graph()\n",
    "\n",
    "MeinGraph.fuegeKnotenHinzu(\"HalloPython\")\n",
    "MeinGraph.fuegeKnotenHinzu(True)\n",
    "MeinGraph.fuegeKnotenHinzu(42)"
   ]
  },
  {
   "cell_type": "code",
   "execution_count": 3,
   "id": "8b14eef1",
   "metadata": {},
   "outputs": [],
   "source": [
    "MeinGraph.setKnotenAttribut(42, \"schoenheit\", \"Toll\")\n",
    "MeinGraph.setKnotenAttribut(\"HalloPython\", \"wert\", -5)"
   ]
  },
  {
   "cell_type": "code",
   "execution_count": 4,
   "id": "e8fb5dc4",
   "metadata": {},
   "outputs": [
    {
     "data": {
      "text/plain": [
       "'Toll'"
      ]
     },
     "execution_count": 4,
     "metadata": {},
     "output_type": "execute_result"
    }
   ],
   "source": [
    "MeinGraph.getKnotenAttribut(42, \"schoenheit\")"
   ]
  },
  {
   "cell_type": "code",
   "execution_count": 5,
   "id": "3defd5ec",
   "metadata": {},
   "outputs": [],
   "source": [
    "MeinGraph.fuegeKnotenHinzu(\"Erna\", gewicht=55, wohnort=\"Hamburg\")\n"
   ]
  },
  {
   "cell_type": "code",
   "execution_count": 6,
   "id": "db068a0b",
   "metadata": {},
   "outputs": [
    {
     "data": {
      "text/plain": [
       "{'gewicht': 55, 'wohnort': 'Hamburg', 'besucht': False}"
      ]
     },
     "execution_count": 6,
     "metadata": {},
     "output_type": "execute_result"
    }
   ],
   "source": [
    "MeinGraph.getKnotenAttribute(\"Erna\")"
   ]
  },
  {
   "cell_type": "code",
   "execution_count": 7,
   "id": "e2baac3e",
   "metadata": {},
   "outputs": [
    {
     "data": {
      "text/plain": [
       "'Toll'"
      ]
     },
     "execution_count": 7,
     "metadata": {},
     "output_type": "execute_result"
    }
   ],
   "source": [
    "MeinGraph.getKnotenAttribut(42, \"schoenheit\")"
   ]
  },
  {
   "cell_type": "code",
   "execution_count": 8,
   "id": "340ab61e",
   "metadata": {},
   "outputs": [
    {
     "data": {
      "text/plain": [
       "['HalloPython', True, 42, 'Erna']"
      ]
     },
     "execution_count": 8,
     "metadata": {},
     "output_type": "execute_result"
    }
   ],
   "source": [
    "MeinGraph.alleKnoten()"
   ]
  },
  {
   "cell_type": "code",
   "execution_count": 9,
   "id": "7f6b89ce",
   "metadata": {
    "scrolled": true
   },
   "outputs": [
    {
     "name": "stdout",
     "output_type": "stream",
     "text": [
      "[(True, 42), (42, 'Erna')]\n",
      "{'laenge': 123, 'farbe': 'pink'}\n",
      "{'gewicht': 5}\n",
      "pink\n"
     ]
    }
   ],
   "source": [
    "MeinGraph.fuegeKanteHinzu(\"Erna\", 42)\n",
    "MeinGraph.fuegeKanteHinzu(42, True, laenge=123, farbe=\"pink\")\n",
    "MeinGraph.setKantenAttribut(\"Erna\", 42, \"gewicht\", 5)\n",
    "\n",
    "print(MeinGraph.alleKanten())\n",
    "print(MeinGraph.getKantenAttribute(42,True))\n",
    "print(MeinGraph.getKantenAttribute(\"Erna\", 42))\n",
    "\n",
    "print(MeinGraph.getKantenAttribut(True, 42, \"farbe\"))"
   ]
  },
  {
   "cell_type": "code",
   "execution_count": 10,
   "id": "b773190f",
   "metadata": {},
   "outputs": [
    {
     "name": "stdout",
     "output_type": "stream",
     "text": [
      "Knoten:HalloPython\n",
      "-----\n",
      "Knoten:True\n",
      "1: True --> 42 hat Attribu(e) {'laenge': 123, 'farbe': 'pink'}\n",
      "-----\n",
      "Knoten:42\n",
      "1: 42 --> Erna hat Attribu(e) {'gewicht': 5}\n",
      "2: 42 --> True hat Attribu(e) {'laenge': 123, 'farbe': 'pink'}\n",
      "-----\n",
      "Knoten:Erna\n",
      "1: Erna --> 42 hat Attribu(e) {'gewicht': 5}\n",
      "-----\n"
     ]
    }
   ],
   "source": [
    "for n, nbrsdict in MeinGraph.adjacency():\n",
    "    print(\"Knoten:\" + str(n))\n",
    "    nr = 1\n",
    "    for nbr, eattr in nbrsdict.items():\n",
    "        print(f'{nr}: {n} --> {nbr} hat Attribu(e) {eattr}')\n",
    "        nr += 1\n",
    "    print(\"-----\")"
   ]
  },
  {
   "cell_type": "code",
   "execution_count": 11,
   "id": "88939b97",
   "metadata": {},
   "outputs": [],
   "source": [
    "G = ng.nrw_graph()\n",
    "G.fuegeKnotenHinzu('d',farbe = \"rosa\")\n",
    "G.fuegeKanteHinzu('d', 'a', farbe = \"grau\", gewicht = 4)\n",
    "G.markiereKnoten('d', 42)\n",
    "G.fuegeKanteHinzu('a', 'b', gewicht = 5)\n",
    "G.fuegeKanteHinzu('b', 'c', gewicht = 1.0, marke = 4711)\n",
    "G.fuegeKanteHinzu('e', 'a', gewicht = 3.14, farbe = \"blau\")\n",
    "G.fuegeKanteHinzu('b', 'd', gewicht = 0, farbe = \"gelb\")\n",
    "G.fuegeKanteHinzu('c', 'a', gewicht = 3, umfang = 11)\n"
   ]
  },
  {
   "cell_type": "code",
   "execution_count": 12,
   "id": "fd315400",
   "metadata": {},
   "outputs": [
    {
     "name": "stdout",
     "output_type": "stream",
     "text": [
      "rosa\n",
      "42\n",
      "4711\n",
      "1.0\n"
     ]
    }
   ],
   "source": [
    "print(G.getKnotenAttribut('d', 'farbe'))\n",
    "print(G.getKnotenAttribut('d', 'marke'))\n",
    "print(G.getKantenAttribut ('b', 'c', 'marke'))\n",
    "print(G.getKantenAttribut ('b', 'c', 'gewicht'))"
   ]
  },
  {
   "cell_type": "code",
   "execution_count": 13,
   "id": "17a1a10a",
   "metadata": {},
   "outputs": [
    {
     "data": {
      "text/plain": [
       "[('d', 'a'), ('d', 'b'), ('a', 'b'), ('a', 'e'), ('a', 'c'), ('b', 'c')]"
      ]
     },
     "execution_count": 13,
     "metadata": {},
     "output_type": "execute_result"
    }
   ],
   "source": [
    "G.alleKanten()"
   ]
  },
  {
   "cell_type": "code",
   "execution_count": 14,
   "id": "9b665ee8",
   "metadata": {},
   "outputs": [
    {
     "data": {
      "text/plain": [
       "['d', 'a', 'b', 'c', 'e']"
      ]
     },
     "execution_count": 14,
     "metadata": {},
     "output_type": "execute_result"
    }
   ],
   "source": [
    "G.alleKnoten()"
   ]
  },
  {
   "cell_type": "code",
   "execution_count": 15,
   "id": "70401bb7",
   "metadata": {},
   "outputs": [
    {
     "name": "stdout",
     "output_type": "stream",
     "text": [
      "4\n",
      "grau\n"
     ]
    }
   ],
   "source": [
    "print(G.getKantenGewicht('a', 'd'))\n",
    "print(G.getKantenFarbe('a', 'd'))"
   ]
  },
  {
   "cell_type": "code",
   "execution_count": 16,
   "id": "d65ad720",
   "metadata": {},
   "outputs": [],
   "source": [
    "G.faerbeKante('a', 'd', 'pink')"
   ]
  },
  {
   "cell_type": "code",
   "execution_count": 17,
   "id": "24b7baed",
   "metadata": {},
   "outputs": [
    {
     "name": "stdout",
     "output_type": "stream",
     "text": [
      "pink\n"
     ]
    }
   ],
   "source": [
    "print(G.getKantenFarbe('a', 'd'))"
   ]
  },
  {
   "cell_type": "code",
   "execution_count": 18,
   "id": "d6683d14",
   "metadata": {},
   "outputs": [],
   "source": [
    "# Man kann noch beliebige neue Attribute definieren, lesen und setzen/ändern\n",
    "G.setKantenAttribut('a','b','hoehe', 1234)"
   ]
  },
  {
   "cell_type": "code",
   "execution_count": 19,
   "id": "87807073",
   "metadata": {},
   "outputs": [
    {
     "data": {
      "text/plain": [
       "1234"
      ]
     },
     "execution_count": 19,
     "metadata": {},
     "output_type": "execute_result"
    }
   ],
   "source": [
    "G.getKantenAttribut('a', 'b', 'hoehe')"
   ]
  },
  {
   "cell_type": "code",
   "execution_count": 20,
   "id": "4a5dd706",
   "metadata": {},
   "outputs": [],
   "source": [
    "# Das kann man auch mit Knoten machen!!!\n",
    "G.setKnotenAttribut('a', 'radius', 3.14)"
   ]
  },
  {
   "cell_type": "code",
   "execution_count": 21,
   "id": "b4dd8101",
   "metadata": {},
   "outputs": [
    {
     "data": {
      "text/plain": [
       "3.14"
      ]
     },
     "execution_count": 21,
     "metadata": {},
     "output_type": "execute_result"
    }
   ],
   "source": [
    "G.getKnotenAttribut('a', 'radius')"
   ]
  },
  {
   "cell_type": "code",
   "execution_count": 22,
   "id": "48c3fb0b",
   "metadata": {},
   "outputs": [],
   "source": [
    "# HausdesNikolaus\n",
    "HDN = ng.nrw_graph()\n",
    "HDN.fuegeKanteHinzu('a', 'b', weight = 100)\n",
    "HDN.fuegeKanteHinzu('a', 'c', weight = 100)\n",
    "HDN.fuegeKanteHinzu('a', 'd', weight = 100)\n",
    "HDN.fuegeKanteHinzu('b', 'c', weight = 100)\n",
    "HDN.fuegeKanteHinzu('b', 'd', weight = 100)\n",
    "HDN.fuegeKanteHinzu('c', 'd', weight = 100)\n",
    "HDN.fuegeKanteHinzu('c', 'e', weight = 100)\n",
    "HDN.fuegeKanteHinzu('d', 'e', weight = 100)"
   ]
  },
  {
   "cell_type": "code",
   "execution_count": 23,
   "id": "59980a95",
   "metadata": {},
   "outputs": [
    {
     "data": {
      "image/png": "[encoded data removed]",
      "text/plain": [
       "<Figure size 640x480 with 1 Axes>"
      ]
     },
     "metadata": {},
     "output_type": "display_data"
    }
   ],
   "source": [
    "# explicitly set positions\n",
    "pos = {'a' : (0, 0), \n",
    "       'b' : (1, 0), \n",
    "       'c' : (1, 1), \n",
    "       'd' : (0, 1), \n",
    "       'e' : (0.5, 2)}\n",
    "      \n",
    "node_options = {\n",
    "    \"node_color\": \"yellow\",\n",
    "    \"edgecolors\": \"black\",\n",
    "    \"node_size\": 290,\n",
    "    \"linewidths\": 1,\n",
    "}\n",
    "\n",
    "edge_options = {\n",
    "    \"edge_color\": \"blue\",\n",
    "    \"width\": 1,\n",
    "}\n",
    "\n",
    "label_options = {\n",
    "    \"font_size\": 6, \n",
    "    \"font_color\" : \"black\",\n",
    "}\n",
    "\n",
    "edge_labels = {\n",
    "    \"font_size\": 6, \n",
    "    \"font_color\" : \"red\",\n",
    "}\n",
    "\n",
    "\n",
    "# nodes:\n",
    "nx.draw_networkx_nodes(HDN, pos, **node_options)\n",
    "\n",
    "# edges:\n",
    "nx.draw_networkx_edges(HDN, pos, **edge_options)\n",
    "\n",
    "# labels:\n",
    "nx.draw_networkx_labels(HDN, pos, **label_options)\n",
    "\n",
    "nx.draw_networkx_edge_labels(HDN, pos, **edge_labels)\n",
    "\n",
    "ax = plt.gca()\n",
    "ax.set_xlabel(\"x\")\n",
    "ax.set_ylabel(\"y\")\n",
    "ax.set_title(\"HausDesNikolaus\")\n",
    "\n",
    "ax.margins(0.1)\n",
    "plt.axis(\"on\")\n",
    "plt.show()"
   ]
  },
  {
   "cell_type": "code",
   "execution_count": 24,
   "id": "396dce5b",
   "metadata": {},
   "outputs": [
    {
     "name": "stdout",
     "output_type": "stream",
     "text": [
      "trallala\n"
     ]
    }
   ],
   "source": [
    "#HDN.besucheKnoten('a')\n",
    "HDN.markiereKnoten('a', \"trallala\")\n",
    "print(HDN.getKnotenMarke('a'))\n",
    "#print(HDN.knotenIstBesucht('a'))\n",
    "#HDN.verlasseKnoten('a')\n",
    "#print(HDN.knotenIstBesucht('a'))"
   ]
  },
  {
   "cell_type": "code",
   "execution_count": 25,
   "id": "225ea0d0",
   "metadata": {},
   "outputs": [
    {
     "data": {
      "text/plain": [
       "True"
      ]
     },
     "execution_count": 25,
     "metadata": {},
     "output_type": "execute_result"
    }
   ],
   "source": [
    "nx.is_weighted(HDN)"
   ]
  },
  {
   "cell_type": "code",
   "execution_count": 26,
   "id": "8af0eb83",
   "metadata": {},
   "outputs": [
    {
     "data": {
      "text/plain": [
       "{'weight': 100}"
      ]
     },
     "execution_count": 26,
     "metadata": {},
     "output_type": "execute_result"
    }
   ],
   "source": [
    "HDN.getKantenAttribute ('a','b')"
   ]
  },
  {
   "cell_type": "code",
   "execution_count": 27,
   "id": "aae13035",
   "metadata": {},
   "outputs": [],
   "source": [
    "Test = ng.nrw_graph()"
   ]
  },
  {
   "cell_type": "code",
   "execution_count": 28,
   "id": "bfa88a8e",
   "metadata": {},
   "outputs": [],
   "source": [
    "Test.fuegeKnotenHinzu(\"K1\")"
   ]
  },
  {
   "cell_type": "code",
   "execution_count": 29,
   "id": "f2329b43",
   "metadata": {},
   "outputs": [
    {
     "data": {
      "text/plain": [
       "['K1']"
      ]
     },
     "execution_count": 29,
     "metadata": {},
     "output_type": "execute_result"
    }
   ],
   "source": [
    "Test.alleKnoten()"
   ]
  },
  {
   "cell_type": "code",
   "execution_count": 30,
   "id": "08e5ab10",
   "metadata": {},
   "outputs": [],
   "source": [
    "Test.fuegeKnotenHinzu(\"K1\")"
   ]
  },
  {
   "cell_type": "code",
   "execution_count": 31,
   "id": "866b3941",
   "metadata": {},
   "outputs": [
    {
     "data": {
      "text/plain": [
       "['K1']"
      ]
     },
     "execution_count": 31,
     "metadata": {},
     "output_type": "execute_result"
    }
   ],
   "source": [
    "Test.alleKnoten()"
   ]
  },
  {
   "cell_type": "code",
   "execution_count": 32,
   "id": "1692014a",
   "metadata": {},
   "outputs": [],
   "source": [
    "Test.fuegeKanteHinzu(\"K1\", \"K2\")"
   ]
  },
  {
   "cell_type": "code",
   "execution_count": 33,
   "id": "1105bd8a",
   "metadata": {},
   "outputs": [
    {
     "data": {
      "text/plain": [
       "['K1', 'K2']"
      ]
     },
     "execution_count": 33,
     "metadata": {},
     "output_type": "execute_result"
    }
   ],
   "source": [
    "Test.alleKnoten()"
   ]
  },
  {
   "cell_type": "code",
   "execution_count": 34,
   "id": "14030d17",
   "metadata": {},
   "outputs": [
    {
     "data": {
      "text/plain": [
       "[('K1', 'K2')]"
      ]
     },
     "execution_count": 34,
     "metadata": {},
     "output_type": "execute_result"
    }
   ],
   "source": [
    "Test.alleKanten()"
   ]
  },
  {
   "cell_type": "code",
   "execution_count": 35,
   "id": "daee143e",
   "metadata": {},
   "outputs": [
    {
     "data": {
      "text/plain": [
       "{'besucht': False}"
      ]
     },
     "execution_count": 35,
     "metadata": {},
     "output_type": "execute_result"
    }
   ],
   "source": [
    "Test.getKnotenAttribute ('K1')"
   ]
  },
  {
   "cell_type": "code",
   "execution_count": 36,
   "id": "3895903c",
   "metadata": {},
   "outputs": [
    {
     "data": {
      "text/plain": [
       "{'besucht': False}"
      ]
     },
     "execution_count": 36,
     "metadata": {},
     "output_type": "execute_result"
    }
   ],
   "source": [
    "Test.getKnotenAttribute ('K2')"
   ]
  },
  {
   "cell_type": "code",
   "execution_count": 37,
   "id": "10ad0168",
   "metadata": {},
   "outputs": [],
   "source": [
    "Test.fuegeKnotenHinzu(\"K2\")"
   ]
  },
  {
   "cell_type": "code",
   "execution_count": 38,
   "id": "b36d97ca",
   "metadata": {},
   "outputs": [
    {
     "data": {
      "text/plain": [
       "['K1', 'K2']"
      ]
     },
     "execution_count": 38,
     "metadata": {},
     "output_type": "execute_result"
    }
   ],
   "source": [
    "Test.alleKnoten()"
   ]
  },
  {
   "cell_type": "code",
   "execution_count": 39,
   "id": "8e943586",
   "metadata": {},
   "outputs": [
    {
     "data": {
      "text/plain": [
       "{'besucht': False}"
      ]
     },
     "execution_count": 39,
     "metadata": {},
     "output_type": "execute_result"
    }
   ],
   "source": [
    "Test.getKnotenAttribute ('K2')"
   ]
  },
  {
   "cell_type": "code",
   "execution_count": 40,
   "id": "2d49ee0c",
   "metadata": {},
   "outputs": [
    {
     "data": {
      "text/plain": [
       "['b', 'c', 'd']"
      ]
     },
     "execution_count": 40,
     "metadata": {},
     "output_type": "execute_result"
    }
   ],
   "source": [
    "HDN.alleNachbarknoten(\"a\")"
   ]
  },
  {
   "cell_type": "code",
   "execution_count": null,
   "id": "3d111ddc",
   "metadata": {},
   "outputs": [],
   "source": []
  }
 ],
 "metadata": {
  "hide_input": false,
  "kernelspec": {
   "display_name": "Python 3 (ipykernel)",
   "language": "python",
   "name": "python3"
  },
  "language_info": {
   "codemirror_mode": {
    "name": "ipython",
    "version": 3
   },
   "file_extension": ".py",
   "mimetype": "text/x-python",
   "name": "python",
   "nbconvert_exporter": "python",
   "pygments_lexer": "ipython3",
   "version": "3.10.9"
  },
  "latex_envs": {
   "LaTeX_envs_menu_present": true,
   "autoclose": false,
   "autocomplete": true,
   "bibliofile": "biblio.bib",
   "cite_by": "apalike",
   "current_citInitial": 1,
   "eqLabelWithNumbers": true,
   "eqNumInitial": 1,
   "hotkeys": {
    "equation": "Ctrl-E",
    "itemize": "Ctrl-I"
   },
   "labels_anchors": false,
   "latex_user_defs": false,
   "report_style_numbering": false,
   "user_envs_cfg": false
  },
  "toc": {
   "base_numbering": 1,
   "nav_menu": {},
   "number_sections": true,
   "sideBar": true,
   "skip_h1_title": true,
   "title_cell": "Inhalt",
   "title_sidebar": "Inhalt",
   "toc_cell": false,
   "toc_position": {
    "height": "calc(100% - 180px)",
    "left": "10px",
    "top": "150px",
    "width": "288px"
   },
   "toc_section_display": true,
   "toc_window_display": true
  },
  "varInspector": {
   "cols": {
    "lenName": 16,
    "lenType": 16,
    "lenVar": 40
   },
   "kernels_config": {
    "python": {
     "delete_cmd_postfix": "",
     "delete_cmd_prefix": "del ",
     "library": "var_list.py",
     "varRefreshCmd": "print(var_dic_list())"
    },
    "r": {
     "delete_cmd_postfix": ") ",
     "delete_cmd_prefix": "rm(",
     "library": "var_list.r",
     "varRefreshCmd": "cat(var_dic_list()) "
    }
   },
   "types_to_exclude": [
    "module",
    "function",
    "builtin_function_or_method",
    "instance",
    "_Feature"
   ],
   "window_display": false
  }
 },
 "nbformat": 4,
 "nbformat_minor": 5
}
