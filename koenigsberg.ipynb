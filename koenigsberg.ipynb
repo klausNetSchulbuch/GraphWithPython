{
 "cells": [
  {
   "cell_type": "markdown",
   "id": "70467a52",
   "metadata": {},
   "source": [
    "# Das Königsberger Brückenproblem"
   ]
  },
  {
   "cell_type": "markdown",
   "id": "1a9d394a",
   "metadata": {},
   "source": [
    "## Bibliotheken einlesen"
   ]
  },
  {
   "cell_type": "code",
   "execution_count": 1,
   "id": "5db24a83",
   "metadata": {},
   "outputs": [],
   "source": [
    "import matplotlib.pyplot as plt\n",
    "import networkx as nx\n",
    "import GraphBib.unsafe.simpleGraph as ng"
   ]
  },
  {
   "cell_type": "markdown",
   "id": "1a9b21a8",
   "metadata": {},
   "source": [
    "## Graph aus einer Datei einlesen:\n",
    "\n",
    "Eine Graph-Beschreibungsdatei besteht für diese Routine aus Zeilen für jede Kante.\n",
    "\n",
    "Eine Kante ist charakterisiert durch Anfangsknoten, Endknoten, Gewicht. \n",
    "Dabei werden die Knoten als String interpretiert, \n",
    "das Gewicht muss ein int- oder ein float-Wert sein.\n",
    "Die drei Angaben sind durch Kommata getrennt.\n",
    "\n"
   ]
  },
  {
   "cell_type": "code",
   "execution_count": 38,
   "id": "f8fa9faa",
   "metadata": {},
   "outputs": [],
   "source": [
    "koenig = ng.simpleGraph()"
   ]
  },
  {
   "cell_type": "code",
   "execution_count": 39,
   "id": "8680cda5",
   "metadata": {},
   "outputs": [],
   "source": [
    "koenig.graphEinlesen(\"Daten/koenigsberg.csv\")"
   ]
  },
  {
   "cell_type": "markdown",
   "id": "a922fbbd",
   "metadata": {},
   "source": [
    "## Graphische Darstellung"
   ]
  },
  {
   "cell_type": "markdown",
   "id": "16e94054",
   "metadata": {},
   "source": [
    "### Geographische Positionen der Knoten"
   ]
  },
  {
   "cell_type": "code",
   "execution_count": null,
   "id": "09228761",
   "metadata": {},
   "outputs": [],
   "source": [
    "# explicitly set positions\n",
    "pos = {'V' : (3, 0), \n",
    "       'H3' : (1, 1), \n",
    "       'H4' : (2, 1), \n",
    "       'K' : (1, 3), \n",
    "       'H1' : (1, 4),\n",
    "       'H2' : (2,4),\n",
    "       'A' : (2,5),\n",
    "       'L' : (4,3),\n",
    "      }"
   ]
  },
  {
   "cell_type": "markdown",
   "id": "42024fe5",
   "metadata": {},
   "source": [
    "### Die graphische Ausgabe"
   ]
  },
  {
   "cell_type": "code",
   "execution_count": 16,
   "id": "f1cb3157",
   "metadata": {},
   "outputs": [
    {
     "data": {
      "image/png": "[encoded data removed]",
      "text/plain": [
       "<Figure size 640x480 with 1 Axes>"
      ]
     },
     "metadata": {},
     "output_type": "display_data"
    }
   ],
   "source": [
    "node_options = {\n",
    "    \"node_color\": \"yellow\",\n",
    "    \"edgecolors\": \"black\",\n",
    "    \"node_size\": 290,\n",
    "}\n",
    "\n",
    "edge_options = {\n",
    "    \"edge_color\": \"blue\",\n",
    "}\n",
    "\n",
    "node_label_options = {\n",
    "    \"font_size\": 6, \n",
    "}\n",
    "\n",
    "# nodes:\n",
    "nx.draw_networkx_nodes(koenig, pos, **node_options)\n",
    "\n",
    "# edges:\n",
    "nx.draw_networkx_edges(koenig, pos, **edge_options)\n",
    "\n",
    "# node_labels:\n",
    "nx.draw_networkx_labels(koenig, pos, **node_label_options)\n",
    "\n",
    "ax = plt.gca()\n",
    "ax.set_title(\"Königsberg\")\n",
    "\n",
    "ax.margins(0.1)\n",
    "plt.axis(\"on\")\n",
    "plt.show()"
   ]
  },
  {
   "cell_type": "markdown",
   "id": "62dc8ac4",
   "metadata": {},
   "source": [
    "## Funktionen für das Königsberger Brückenproblem"
   ]
  },
  {
   "cell_type": "code",
   "execution_count": 20,
   "id": "ee9aaa9f",
   "metadata": {},
   "outputs": [],
   "source": [
    "def grad (graph, node):\n",
    "    return len(graph.alleNachbarknoten (node))"
   ]
  },
  {
   "cell_type": "code",
   "execution_count": 32,
   "id": "20c3526c",
   "metadata": {},
   "outputs": [],
   "source": [
    "def anzahlUngerader(graph):\n",
    "    au = 0\n",
    "    for node in graph.alleKnoten():\n",
    "        g = grad (graph, node)\n",
    "        if g%2 == 1:\n",
    "            au += 1\n",
    "    \n",
    "    return au"
   ]
  },
  {
   "cell_type": "code",
   "execution_count": 33,
   "id": "ce5f5804",
   "metadata": {},
   "outputs": [],
   "source": [
    "def hatEulerWeg (graph):\n",
    "    au = anzahlUngerader(graph)\n",
    "    return au == 0 or au == 2"
   ]
  },
  {
   "cell_type": "code",
   "execution_count": 34,
   "id": "ebec33b1",
   "metadata": {},
   "outputs": [],
   "source": [
    "def hatEulerKreis (graph):\n",
    "    au = anzahlUngerader(graph)\n",
    "    return au == 0"
   ]
  },
  {
   "cell_type": "code",
   "execution_count": 35,
   "id": "d7bb043c",
   "metadata": {},
   "outputs": [
    {
     "data": {
      "text/plain": [
       "False"
      ]
     },
     "execution_count": 35,
     "metadata": {},
     "output_type": "execute_result"
    }
   ],
   "source": [
    "hatEulerWeg (koenig)"
   ]
  },
  {
   "cell_type": "code",
   "execution_count": 36,
   "id": "33d9bb31",
   "metadata": {},
   "outputs": [
    {
     "data": {
      "text/plain": [
       "False"
      ]
     },
     "execution_count": 36,
     "metadata": {},
     "output_type": "execute_result"
    }
   ],
   "source": [
    "hatEulerKreis (koenig)"
   ]
  },
  {
   "cell_type": "code",
   "execution_count": 37,
   "id": "e6e3f8b9",
   "metadata": {},
   "outputs": [
    {
     "data": {
      "text/plain": [
       "4"
      ]
     },
     "execution_count": 37,
     "metadata": {},
     "output_type": "execute_result"
    }
   ],
   "source": [
    "anzahlUngerader(koenig)"
   ]
  },
  {
   "cell_type": "code",
   "execution_count": null,
   "id": "4601ee1c",
   "metadata": {},
   "outputs": [],
   "source": []
  }
 ],
 "metadata": {
  "hide_input": false,
  "kernelspec": {
   "display_name": "Python 3 (ipykernel)",
   "language": "python",
   "name": "python3"
  },
  "language_info": {
   "codemirror_mode": {
    "name": "ipython",
    "version": 3
   },
   "file_extension": ".py",
   "mimetype": "text/x-python",
   "name": "python",
   "nbconvert_exporter": "python",
   "pygments_lexer": "ipython3",
   "version": "3.10.13"
  },
  "toc": {
   "base_numbering": 1,
   "nav_menu": {},
   "number_sections": true,
   "sideBar": true,
   "skip_h1_title": true,
   "title_cell": "Inhalt",
   "title_sidebar": "Inhalt",
   "toc_cell": false,
   "toc_position": {},
   "toc_section_display": true,
   "toc_window_display": true
  },
  "varInspector": {
   "cols": {
    "lenName": 16,
    "lenType": 16,
    "lenVar": 40
   },
   "kernels_config": {
    "python": {
     "delete_cmd_postfix": "",
     "delete_cmd_prefix": "del ",
     "library": "var_list.py",
     "varRefreshCmd": "print(var_dic_list())"
    },
    "r": {
     "delete_cmd_postfix": ") ",
     "delete_cmd_prefix": "rm(",
     "library": "var_list.r",
     "varRefreshCmd": "cat(var_dic_list()) "
    }
   },
   "types_to_exclude": [
    "module",
    "function",
    "builtin_function_or_method",
    "instance",
    "_Feature"
   ],
   "window_display": false
  }
 },
 "nbformat": 4,
 "nbformat_minor": 5
}
