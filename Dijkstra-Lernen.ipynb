{
 "cells": [
  {
   "cell_type": "markdown",
   "id": "9b5e535d",
   "metadata": {},
   "source": [
    "# *Dijkstra*: Kürzeste Wege in einem Graphen"
   ]
  },
  {
   "cell_type": "markdown",
   "id": "51c79583",
   "metadata": {},
   "source": [
    "Die Suche nach kürzesten Verbindungen in Graphen hat in vielen Bereichen des täglichen Lebens praktische Anwendungen:\n",
    "\n",
    "- **Navigationssysteme** finden den kürzesten Weg zwischen zwei Orten.\n",
    "- **Lieferunternehmen** suchen die effizienteste Route für die Zustellung von Waren.\n",
    "- **Stadtplaner und Verkehrsingenieure** möchten die Verkehrsflüsse optimieren, um Staus zu vermeiden.\n",
    "- **Routenplanung in Netzwerken** zielt darauf, Datenpakete schnell und effizient zu transportieren.\n",
    "\n",
    "Bereits 1959 entwickelte der niederländische Mathematiker *E. W. Dijkstra* einen Algorithmus, um in gewichteten ungerichteten Graphen kürzeste Wege zu finden.\n",
    "\n",
    "Natürlich könnte man alle möglichen Wege zwischen zwei Knoten auflisten, um so den kürzesten Weg zu finden (*brute-force-Ansatz*), doch schon in kleinen Graphen gibt es sehr viele solcher Wege, so dass dieses Verfahren nicht wirklich effizient ist.\n",
    "\n",
    "Der *Dijkstra-Algorithmus* löst das Problem (erstaunlicherweise) demgegenüber sehr effizient."
   ]
  },
  {
   "cell_type": "markdown",
   "id": "6f8c7b77",
   "metadata": {},
   "source": [
    "In diesem Notebook werden wir diesen Algorithmus an einem Beispiel durchführen.\n",
    "\n",
    "Dazu benutzten wir\n",
    "- die Programmiersprache **Python** (in der Version 3.10)\n",
    "- die **Jupyter-Notebook-Umgebung**\n",
    "- eine spezielle Python-Bibliothek `networkx`, mit der wir sehr leicht gewichtete Graphen implementieren können.\n",
    "- eine eigene Python-Bibliothek `nrw_graph`, die auf `networkx` basiert, die den Umgang mit Graphen methodisch-didaktisch vereinfacht."
   ]
  },
  {
   "cell_type": "markdown",
   "id": "9706304c",
   "metadata": {},
   "source": [
    "## Begriffsklärung: ***Graphen***"
   ]
  },
  {
   "cell_type": "markdown",
   "id": "ef59f805",
   "metadata": {},
   "source": [
    "Ein ***Graph*** ist eine abstrakte mathematische Struktur, die aus einer Menge von Knoten (engl.: vertices) und einer Menge von Kanten (engl. edges) besteht. Die Knoten stellen dabei Objekte dar, während die Kanten die Beziehungen zwischen diesen Objekten repräsentieren. \n",
    "\n",
    "Graphen werden in vielen Bereichen der Mathematik, Informatik, Ingenieurwissenschaften, Biologie und anderen Wissenschaften verwendet, um komplexe Systeme zu modellieren und zu analysieren. \n",
    "\n",
    "Es gibt verschiedene Arten von Graphen:\n",
    "- gerichtete und ungerichtete Graphen\n",
    "  - Haben die Kanten eine Richtung (Einbahnstraßen) oder ist das für die aktuelle Anwendung unerheblich?\n",
    "- gewichtete und ungewichtete Graphen\n",
    "  - Haben die Kanten z.B. eine Länge oder spielt das keine Rolle für die aktuelle Anwendung?\n",
    "\n",
    "Die Graphentheorie beschäftigt sich mit der Untersuchung von Graphen und deren Eigenschaften."
   ]
  },
  {
   "cell_type": "markdown",
   "id": "28b55a0b",
   "metadata": {},
   "source": [
    "Hier sieht man Beispiele für die unterschiedlichen Typen von Graphen:"
   ]
  },
  {
   "cell_type": "markdown",
   "id": "fa4e0a62",
   "metadata": {},
   "source": [
    "- ungerichtet, ungewichtet:\n",
    "  - Beispiel: Die Knoten sind Personen, die genau dann verbunden sind, wenn sie sich kennen.\n",
    "\n",
    "<td> \n",
    "    <img src=\"Bilder\\undir_unweight_graph.png\" alt=\"ungerichtet, ungewichtet\" \n",
    "         style=\"width: 300px; float: left;\"  hspace=40 /> \n",
    "</td>"
   ]
  },
  {
   "cell_type": "markdown",
   "id": "187261b0",
   "metadata": {},
   "source": [
    "- ungerichtet, gewichtet:\n",
    "  - Beispiel: Die Knoten sind Städte, die Kanten sind (in beiden Richtungen befahrbare) Straßen mit angegebener Länge\n",
    "\n",
    "<td> \n",
    "    <img src=\"Bilder\\undir_weight_graph.png\" alt=\"ungerichtet, gewichtet\" \n",
    "         style=\"width: 400px; float: left;\" hspace=40/>\n",
    "</td>"
   ]
  },
  {
   "cell_type": "markdown",
   "id": "bc86104c",
   "metadata": {},
   "source": [
    "- gerichtet, ungewichtet:\n",
    "  - Beispiel: Die Knoten sind Personen. Eine gerichtete Kante verläuft von X nach Y, wenn die Person X die Person Y mag.\n",
    "\n",
    "<td> \n",
    "    <img src=\"Bilder\\dir_unweight_graph.png\" alt=\"gerichtet, ungewichtet\" \n",
    "         style=\"width: 300px; float: left;\"  hspace=40 /> \n",
    "</td>"
   ]
  },
  {
   "cell_type": "markdown",
   "id": "88d20322",
   "metadata": {},
   "source": [
    "- gerichtet, gewichtet:\n",
    "  - Beispiel: Die Knoten sind Hafenstädte. Eine Kante von X nach Y mit Gewicht g besagt, dass von X nach Y ein Container mit Gewicht g verschifft wird.\n",
    "\n",
    "<td> \n",
    "    <img src=\"Bilder\\dir_weight_graph.jpeg\" alt=\"gerichtet, gewichtet\" \n",
    "         style=\"width: 300px; float: left;\" hspace=40/>\n",
    "</td>\n"
   ]
  },
  {
   "cell_type": "markdown",
   "id": "e96ebc4e",
   "metadata": {},
   "source": [
    "In diesem Abschnitt werden ausschließlich **ungerichtete**, **gewichtete** Graphen betrachtet. Ggf. werden in späteren Abschnitten auch andere Typen behandelt.\n",
    "\n",
    "Weitere Einschränkungen:\n",
    "- Es gibt in den hier betrachteten Graphen keine *Schlingen* (eine Kante, deren Anfangs- und Endkonten identisch sind).\n",
    "- Es gibt keine *Mehrfachkanten* (mehrere Kanten zwischen gleichen Knoten).\n",
    "- Die Graphen haben nur *positive Kantengewichte*."
   ]
  },
  {
   "cell_type": "markdown",
   "id": "f0880730",
   "metadata": {},
   "source": [
    "## Notwendige Bibliotheken importieren"
   ]
  },
  {
   "cell_type": "code",
   "execution_count": 1,
   "id": "7e75abd2",
   "metadata": {},
   "outputs": [],
   "source": [
    "import networkx as nx\n",
    "import nrw_graph as ng\n",
    "\n",
    "# pandas ist eine Bibliothek für Python u.a. zur Verarbeitung von Daten.\n",
    "import pandas as pd\n",
    "\n",
    "# Bibliothek, z.B. um Daten graphisch darzustellen.\n",
    "import matplotlib.pyplot as plt"
   ]
  },
  {
   "cell_type": "markdown",
   "id": "dc4afd27",
   "metadata": {},
   "source": [
    "## Dokumentation der Bibliothek `nrw_graph`"
   ]
  },
  {
   "cell_type": "markdown",
   "id": "88987ffd",
   "metadata": {},
   "source": [
    "Um Graphenalgorithmen mit Hilfe von Python implementieren zu können, gibt es die Bibliothek `networkx`.\n",
    "\n",
    "Darauf aufbauend wurde die Bibliothek `nrw_graph` geschrieben, in der einfach zu nutzende Funktionen implementiert sind.\n",
    "\n",
    "Die Dokumentation der Funktionen dieser Klasse können auf Wunsch eingesehen werden. Dazu müssen Sie den Kommentar der folgende Zelle entfernen, dann die Zelle aktivieren:"
   ]
  },
  {
   "cell_type": "code",
   "execution_count": 2,
   "id": "6cfdb96f",
   "metadata": {
    "scrolled": false
   },
   "outputs": [],
   "source": [
    "# help(\"nrw_graph\")"
   ]
  },
  {
   "cell_type": "markdown",
   "id": "b794a5c7",
   "metadata": {},
   "source": [
    "## Graph (Kanten, Knoten, Gewicht) aus einer Datei einlesen"
   ]
  },
  {
   "cell_type": "markdown",
   "id": "53f8f5ce",
   "metadata": {},
   "source": [
    "Ein *gewichteter Graph* wird beschrieben durch die Angabe der zu dem Graphen gehörenden Kanten. Eine Kante ist dabei ein Objekt, in dem die Namen der beiden Endknoten sowie das Gewicht der Kante (in unserem Beispiel die Länge) enthalten sind.\n",
    "\n",
    "Da die Knoten, die der Graph enthält, nicht explizit angegeben werden, sondern sich aus den Endknoten der Kanten ergeben, kann man auf diese Weise keine Graphen mit isolierten Knoten erzeugen. Jedoch ist das für unser Beispiel nicht tragisch, da von und zu isolierten Knoten sicherlich kein Weg führt."
   ]
  },
  {
   "cell_type": "markdown",
   "id": "7f3c96e6",
   "metadata": {},
   "source": [
    "Die für einen Graphen notwendigen Daten sollten sich in einer CSV-Datei befinden. Eine solche Datei enthält die Daten (also die Information über eine Kante) zeilenweise, wobei die erste Zeile ein Art Überschrift ist.\n",
    "\n",
    "Jede Zeile enthält - in der Regel duch Kommata oder Semikolon getrennt - die Werte der jeweiligen Attribute:\n",
    "\n",
    "- Name des Startknoten\n",
    "- Name des Zielknoten\n",
    "- Länge der Kante\n",
    "\n",
    "Dabei sind in diesem Zusammenhang die Begriffe *Start* und *Ziel* ggf. missverständlich, da die Graphen, die hier benutzt werden, ungerichtet sind; gibt es also eine Kante von A nach B, die in dem Datensatz  angegeben ist, gibt es automatisch auch die Kante von B nach A gleicher Länge, ohne dass sie explizit in den Datensätzen auftaucht."
   ]
  },
  {
   "cell_type": "code",
   "execution_count": 3,
   "id": "5d8a90f1",
   "metadata": {
    "scrolled": true
   },
   "outputs": [
    {
     "data": {
      "text/html": [
       "<div>\n",
       "<style scoped>\n",
       "    .dataframe tbody tr th:only-of-type {\n",
       "        vertical-align: middle;\n",
       "    }\n",
       "\n",
       "    .dataframe tbody tr th {\n",
       "        vertical-align: top;\n",
       "    }\n",
       "\n",
       "    .dataframe thead th {\n",
       "        text-align: right;\n",
       "    }\n",
       "</style>\n",
       "<table border=\"1\" class=\"dataframe\">\n",
       "  <thead>\n",
       "    <tr style=\"text-align: right;\">\n",
       "      <th></th>\n",
       "      <th>Start</th>\n",
       "      <th>Ziel</th>\n",
       "      <th>Entfernung</th>\n",
       "    </tr>\n",
       "  </thead>\n",
       "  <tbody>\n",
       "    <tr>\n",
       "      <th>0</th>\n",
       "      <td>KI</td>\n",
       "      <td>SN</td>\n",
       "      <td>160</td>\n",
       "    </tr>\n",
       "    <tr>\n",
       "      <th>1</th>\n",
       "      <td>KI</td>\n",
       "      <td>HH</td>\n",
       "      <td>97</td>\n",
       "    </tr>\n",
       "    <tr>\n",
       "      <th>2</th>\n",
       "      <td>KI</td>\n",
       "      <td>HB</td>\n",
       "      <td>211</td>\n",
       "    </tr>\n",
       "    <tr>\n",
       "      <th>3</th>\n",
       "      <td>HH</td>\n",
       "      <td>HB</td>\n",
       "      <td>126</td>\n",
       "    </tr>\n",
       "    <tr>\n",
       "      <th>4</th>\n",
       "      <td>SN</td>\n",
       "      <td>HH</td>\n",
       "      <td>110</td>\n",
       "    </tr>\n",
       "    <tr>\n",
       "      <th>5</th>\n",
       "      <td>HAM</td>\n",
       "      <td>MS</td>\n",
       "      <td>70</td>\n",
       "    </tr>\n",
       "    <tr>\n",
       "      <th>6</th>\n",
       "      <td>MS</td>\n",
       "      <td>HB</td>\n",
       "      <td>120</td>\n",
       "    </tr>\n",
       "    <tr>\n",
       "      <th>7</th>\n",
       "      <td>HB</td>\n",
       "      <td>H</td>\n",
       "      <td>127</td>\n",
       "    </tr>\n",
       "    <tr>\n",
       "      <th>8</th>\n",
       "      <td>HH</td>\n",
       "      <td>H</td>\n",
       "      <td>159</td>\n",
       "    </tr>\n",
       "    <tr>\n",
       "      <th>9</th>\n",
       "      <td>BI</td>\n",
       "      <td>H</td>\n",
       "      <td>90</td>\n",
       "    </tr>\n",
       "  </tbody>\n",
       "</table>\n",
       "</div>"
      ],
      "text/plain": [
       "  Start Ziel  Entfernung\n",
       "0    KI   SN         160\n",
       "1    KI   HH          97\n",
       "2    KI   HB         211\n",
       "3    HH   HB         126\n",
       "4    SN   HH         110\n",
       "5   HAM   MS          70\n",
       "6    MS   HB         120\n",
       "7    HB    H         127\n",
       "8    HH    H         159\n",
       "9    BI    H          90"
      ]
     },
     "metadata": {},
     "output_type": "display_data"
    }
   ],
   "source": [
    "#df_staedte = pd.read_csv(\"staedte.txt\", sep=\",\")\n",
    "df_staedte = pd.read_csv(\"stdt.txt\", sep=\",\")\n",
    "\n",
    "# Hier werden aus Gründen der Übersichtlichkeit \n",
    "# nur die ersten 10 Datensätze in einer Tabelle gezeigt.\n",
    "display(df_staedte.head(10)) #"
   ]
  },
  {
   "cell_type": "markdown",
   "id": "b41e4195",
   "metadata": {},
   "source": [
    "## Der Graph wird aus den Daten konstruiert"
   ]
  },
  {
   "cell_type": "code",
   "execution_count": 4,
   "id": "a72d0b21",
   "metadata": {},
   "outputs": [],
   "source": [
    "# Ein neuer leerer Graph\n",
    "autobahn = ng.nrw_graph()\n",
    "\n",
    "# In diesen Graph werden die Informationen aus der Datei eingetragen\n",
    "autobahn.graphEinlesen(\"stdt.txt\", sep=\",\")"
   ]
  },
  {
   "cell_type": "markdown",
   "id": "5e390312",
   "metadata": {},
   "source": [
    "## Zeig mal den Graphen"
   ]
  },
  {
   "cell_type": "markdown",
   "id": "62292790",
   "metadata": {},
   "source": [
    "Wenn man möchte, kann man den Graphen visualisieren. \n",
    "\n",
    "Doch **Vorsicht**: \n",
    "\n",
    "- Die Daten in der Datei enthalten keine Angaben über die Lage der Knoten zueinander. Damit ein einigermaßen realistisches Bild der Autobahnverbindungen entstehen kann, wurden in dem folgenden Python-Programm die Längen- und Breitengrade der Städte in Form eines Dictionaries angegeben.\n",
    "\n",
    "Diese Darstellung ist nur eine nette Spielerei, um die Fähigkeit der Bibliothek zu demonstrieren! In den folgenden Abschnitten, in denen es um kürzeste Verbindungen geht, spielen diese Angaben keine Rolle mehr. "
   ]
  },
  {
   "cell_type": "code",
   "execution_count": 65,
   "id": "00bae4ba",
   "metadata": {
    "scrolled": false
   },
   "outputs": [
    {
     "data": {
      "image/png": "[encoded data removed]",
      "text/plain": [
       "<Figure size 1200x1000 with 1 Axes>"
      ]
     },
     "metadata": {},
     "output_type": "display_data"
    }
   ],
   "source": [
    "# explicitly set positions\n",
    "# (Längengrad östl. , Breitengrad nördl.)\n",
    "pos = {'KI' : (10.12, 54.32), \n",
    "       'SN' : (11.40, 53.63), \n",
    "       'HH' : ( 9.99, 53.55), \n",
    "       'HB' : ( 8.80, 53.07), \n",
    "       'BI' : ( 8.53, 52.03), \n",
    "       'H'  : ( 9.73, 52.37), \n",
    "       'MD' : (11.62, 52.12), \n",
    "       'B'  : (13.37, 52.51), \n",
    "       'D'  : ( 6.77, 51.22), \n",
    "       'MZ' : ( 8.24, 49.99), \n",
    "       'EF' : (11.02, 50.98), \n",
    "       'DD' : (13.73, 51.05), \n",
    "       'SB' : ( 6.99, 49.24), \n",
    "       'S'  : ( 9.18, 48.77), \n",
    "       'M'  : (11.57, 48.13), \n",
    "       'HAM': ( 7.81, 51.67), \n",
    "       \n",
    "# Die folgenden Einträge benutzen die korrekten Werte: \n",
    "#       'P'  : (13.06, 52.39), # orig\n",
    "#       'MS' : ( 7.62, 51.96), # orig\n",
    "#       'WI' : ( 8.23, 50.07), # orig \n",
    "\n",
    "# Die folgenden Einträge benutzen leicht verschobene Werte, \n",
    "# damit sich die Knoten in der Graphik nicht überlappen!\n",
    "       'P'  : (12.50, 52.39), \n",
    "       'MS' : ( 7.62, 52.20), \n",
    "       'WI' : ( 8.23, 50.60),  \n",
    "      }\n",
    "\n",
    "kantenNamen = {(s,z):str(autobahn.getKantenAttribut(s,z,\"gewicht\")) + \"km\" for (s,z) in autobahn.alleKanten()}\n",
    "\n",
    "node_options = {\n",
    "    \"node_color\": \"yellow\",\n",
    "    \"edgecolors\": \"black\",\n",
    "    \"node_size\": 290,\n",
    "    \"linewidths\": 1,\n",
    "                }\n",
    "edge_options = {\n",
    "    \"edge_color\": \"blue\",\n",
    "    \"width\": 1,\n",
    "}\n",
    "\n",
    "label_options = {\n",
    "    \"font_size\": 6, \n",
    "    \"font_color\" : \"black\",\n",
    "}\n",
    "\n",
    "edge_label_options = {\n",
    "    \"font_size\": 8, \n",
    "    \"font_color\" : \"black\",\n",
    "    \"label_pos\" : 0.5,\n",
    "    \"edge_labels\" : kantenNamen,\n",
    "    \"rotate\" : False,\n",
    "}\n",
    "\n",
    "# nodes:\n",
    "nx.draw_networkx_nodes(autobahn, pos, **node_options)\n",
    "\n",
    "# edges:\n",
    "nx.draw_networkx_edges(autobahn, pos, **edge_options)\n",
    "\n",
    "# labels:\n",
    "nx.draw_networkx_labels(autobahn, pos, **label_options)\n",
    "\n",
    "# edge_labels:\n",
    "nx.draw_networkx_edge_labels(autobahn, pos, **edge_label_options)\n",
    "\n",
    "ax = plt.gca()\n",
    "ax.set_xlabel(\"östl. Länge\")\n",
    "ax.set_ylabel(\"nördl. Breite\")\n",
    "ax.set_title(\"Städte in Deutschland\")\n",
    "ax.margins(0.01)\n",
    "\n",
    "plt.rcParams[\"figure.figsize\"] = (12, 10)\n",
    "plt.axis(\"on\")\n",
    "plt.show()"
   ]
  },
  {
   "cell_type": "markdown",
   "id": "87bde2f3",
   "metadata": {},
   "source": [
    "## Kontrolle: Hat das Einlesen der Daten geklappt?"
   ]
  },
  {
   "cell_type": "code",
   "execution_count": 6,
   "id": "b0246dd2",
   "metadata": {},
   "outputs": [
    {
     "data": {
      "text/plain": [
       "[('KI', 'SN'),\n",
       " ('KI', 'HH'),\n",
       " ('KI', 'HB'),\n",
       " ('SN', 'HH'),\n",
       " ('SN', 'B'),\n",
       " ('HH', 'HB'),\n",
       " ('HH', 'H'),\n",
       " ('HB', 'MS'),\n",
       " ('HB', 'H'),\n",
       " ('HAM', 'MS'),\n",
       " ('HAM', 'D'),\n",
       " ('HAM', 'BI'),\n",
       " ('H', 'BI'),\n",
       " ('H', 'WI'),\n",
       " ('H', 'EF'),\n",
       " ('H', 'MD'),\n",
       " ('H', 'P'),\n",
       " ('D', 'WI'),\n",
       " ('WI', 'MZ'),\n",
       " ('WI', 'EF'),\n",
       " ('MZ', 'SB'),\n",
       " ('MZ', 'DD'),\n",
       " ('SB', 'S'),\n",
       " ('EF', 'MD'),\n",
       " ('EF', 'P'),\n",
       " ('EF', 'DD'),\n",
       " ('MD', 'P'),\n",
       " ('P', 'B'),\n",
       " ('B', 'DD'),\n",
       " ('DD', 'S'),\n",
       " ('DD', 'M'),\n",
       " ('S', 'M')]"
      ]
     },
     "execution_count": 6,
     "metadata": {},
     "output_type": "execute_result"
    }
   ],
   "source": [
    "autobahn.alleKanten()"
   ]
  },
  {
   "cell_type": "code",
   "execution_count": 7,
   "id": "eed799a8",
   "metadata": {},
   "outputs": [
    {
     "name": "stdout",
     "output_type": "stream",
     "text": [
      "KI            --  SN           : 160\n",
      "KI            --  HH           : 97\n",
      "KI            --  HB           : 211\n",
      "SN            --  HH           : 110\n",
      "SN            --  B            : 224\n",
      "HH            --  HB           : 126\n",
      "HH            --  H            : 159\n",
      "HB            --  MS           : 120\n",
      "HB            --  H            : 127\n",
      "HAM           --  MS           : 70\n",
      "HAM           --  D            : 110\n",
      "HAM           --  BI           : 80\n",
      "H             --  BI           : 90\n",
      "H             --  WI           : 374\n",
      "H             --  EF           : 249\n",
      "H             --  MD           : 146\n",
      "H             --  P            : 264\n",
      "D             --  WI           : 212\n",
      "WI            --  MZ           : 8\n",
      "WI            --  EF           : 283\n",
      "MZ            --  SB           : 151\n",
      "MZ            --  DD           : 498\n",
      "SB            --  S            : 222\n",
      "EF            --  MD           : 170\n",
      "EF            --  P            : 281\n",
      "EF            --  DD           : 215\n",
      "MD            --  P            : 134\n",
      "P             --  B            : 35\n",
      "B             --  DD           : 193\n",
      "DD            --  S            : 507\n",
      "DD            --  M            : 460\n",
      "S             --  M            : 223\n"
     ]
    }
   ],
   "source": [
    "for kante in autobahn.alleKanten():\n",
    "    start = kante[0]\n",
    "    ziel = kante[1]\n",
    "    print(start.ljust(12), \" -- \", ziel.ljust(12), \":\", autobahn.getKantenGewicht(start, ziel))"
   ]
  },
  {
   "cell_type": "markdown",
   "id": "905753cf",
   "metadata": {},
   "source": [
    "## Einige Hilfsfunktionen"
   ]
  },
  {
   "cell_type": "markdown",
   "id": "163cd793",
   "metadata": {},
   "source": [
    "### Informationen über Knoten; Markieren von Knoten"
   ]
  },
  {
   "cell_type": "markdown",
   "id": "0e2cfb9f",
   "metadata": {},
   "source": [
    "Wir betrachten einmal einen Knoten K des Graphen. In vielen Situationen ist es wichtig zu wissen, von welchem Knoten V (der Vorgängerknoten von K) man zu K kommt und wie weit es dabei ist. \n",
    "- Manchmal möchte man wissen, wie weit der es von V zu K ist, \n",
    "- in anderen Fällen ist die Entfernung vom Start über V zu K interessant.\n",
    "\n",
    "Insgesamt kann man die drei Informationen \n",
    "- Name von K\n",
    "- Name des Vorgängerknoten\n",
    "- Entfernung zu K\n",
    "\n",
    "als 3-elementige Liste verwalten, die als Information genutzt wird."
   ]
  },
  {
   "cell_type": "markdown",
   "id": "75b8eada",
   "metadata": {},
   "source": [
    "### Knoten können *besucht* werden"
   ]
  },
  {
   "cell_type": "markdown",
   "id": "ae0ea91a",
   "metadata": {},
   "source": [
    "Knoten können ein boolsches Flag (`True` oder `False`) haben. \n",
    "\n",
    "Ein Knoten K nennen wir *besucht*, wenn bekannt ist, wie lang der kürzeste Weg vom Start zu K ist. \n",
    "In einem Graphen sind zunächst alle Knoten unbesucht, haben also die Flagge `False`.\n",
    "\n",
    "Ein besuchter Knoten hat die Flagge `True`. Wenn Knoten besucht sind, haben sie eine Marke in Form einer 3-elementigen Liste (s.o.).\n",
    "\n",
    "Die folgende Funktion erzeugt eine Liste aller besuchten Knoten (genauer der zugehörigen Knotenmarken):"
   ]
  },
  {
   "cell_type": "code",
   "execution_count": 8,
   "id": "696defec",
   "metadata": {},
   "outputs": [],
   "source": [
    "def alleBesuchtenKnoten():\n",
    "    alle = []\n",
    "    for knoten in autobahn.alleKnoten():\n",
    "        if autobahn.knotenIstBesucht(knoten):\n",
    "            (ueber, lang) = autobahn.getKnotenMarke(knoten)\n",
    "            alle.append([knoten,ueber, lang])\n",
    "    return alle"
   ]
  },
  {
   "cell_type": "code",
   "execution_count": 9,
   "id": "f07a462f",
   "metadata": {},
   "outputs": [],
   "source": [
    "# Eine Hilfsfunktion, damit man die später die Liste von Kanten (s.o.) sortieren kann.\n",
    "# Die einträge in einer solchen Liste sind ebenfalls Listen der Form [über,ziel,entfernung] \n",
    "def entfernung (liste):\n",
    "    return liste[2]"
   ]
  },
  {
   "cell_type": "markdown",
   "id": "f3f1544c",
   "metadata": {},
   "source": [
    "### Wir finden *Folgeknoten*"
   ]
  },
  {
   "cell_type": "markdown",
   "id": "58c4f0d1",
   "metadata": {},
   "source": [
    "Für jeden Knoten K im Graphen ist es wichtig zu wissen, welche Knoten F von K aus direkt zu erreichen sind. Dabei werden die drei Informationen\n",
    "- Name von K\n",
    "- Name von F\n",
    "- Länge der Kante K-F\n",
    "\n",
    "in Form einer 3-elementigen Liste (s.o.) verwaltet.\n",
    "\n",
    "Die folgende Funktion liefert eine Liste aller möglichen Kanten von K aus zu Folgeknoten (bzw. deren Kanteninfos):"
   ]
  },
  {
   "cell_type": "code",
   "execution_count": 10,
   "id": "e81f8061",
   "metadata": {},
   "outputs": [],
   "source": [
    "def kantenVon(von):\n",
    "    kanten = []\n",
    "    for (s,z) in autobahn.alleKanten():\n",
    "        if s == von:\n",
    "            l = autobahn.getKantenGewicht(s, z)\n",
    "            kanten.append([s, z, l])\n",
    "        elif z == von:\n",
    "            l = autobahn.getKantenGewicht(s, z)\n",
    "            kanten.append([z, s, l])\n",
    "\n",
    "    return kanten"
   ]
  },
  {
   "cell_type": "markdown",
   "id": "069ee041",
   "metadata": {},
   "source": [
    "### Wir finden *lokale Schnittkanten*"
   ]
  },
  {
   "cell_type": "markdown",
   "id": "72c94903",
   "metadata": {},
   "source": [
    "Betrachten wir jetzt einen bereits besuchten Knoten K.\n",
    "\n",
    "Im Gegensatz zur vorigen Funktion `kantenVon` inetressieren wir uns jetzt nur für solche Folgeknoten F, die noch nicht besucht sind. Eine Kante von K zu dem unbesuchten Folgeknoten F nennen wir eine *lokale Schnittkante*.\n",
    "\n",
    "Zu dem Folgeknoten F haben wir also (erneut in Form einer 3-elementigen Liste) die Informationen:\n",
    "- Name von K\n",
    "- Name von F\n",
    "- Länge der Kante K-F\n",
    "\n",
    "Die folgende Funktion liefert eine Liste aller möglichen Schnittkanten von K aus zu Folgeknoten (bzw. deren Kanteninfos):"
   ]
  },
  {
   "cell_type": "code",
   "execution_count": 11,
   "id": "76cca20a",
   "metadata": {},
   "outputs": [],
   "source": [
    "def lokaleSchnittkantenVon(von):\n",
    "    kanten = []\n",
    "    for (s,z) in autobahn.alleKanten():\n",
    "        if s == von and not autobahn.knotenIstBesucht(z):\n",
    "            l = autobahn.getKantenGewicht(s, z)\n",
    "            kanten.append([s, z, l])\n",
    "        elif z == von and not autobahn.knotenIstBesucht(s):\n",
    "            l = autobahn.getKantenGewicht(s, z)\n",
    "            kanten.append ([z,s, l])\n",
    "\n",
    "    return kanten"
   ]
  },
  {
   "cell_type": "markdown",
   "id": "652a961c",
   "metadata": {},
   "source": [
    "### Wir finden *Schnittkanten*"
   ]
  },
  {
   "cell_type": "markdown",
   "id": "77b6429d",
   "metadata": {},
   "source": [
    "Die Schnittkanteninformationen, die wir in der vorigen Funktion erzeugt haben, sind jedoch für unsere Zwecke nicht zielführend, da zu einem Folgeknoten F von K nicht die Kantenlänge K-F, sondern die Weglänge vom Start über K zu F wichtig ist.\n",
    "\n",
    "Eine solche Kante nennen wir *Schnittkante*.\n",
    "\n",
    "Also erzeugen wir zu jedem unbesuchten Folgeknoten F die Informationen\n",
    "\n",
    "- Name von K\n",
    "- Name von F\n",
    "- Länge des Weges vom Start über K zu F\n",
    "\n",
    "Die folgende Funktion erzeugt eine Liste aller Schnittkanteninformationen im Graph. Es werden also zu allen besuchten Knoten K die Schnittkanteninfos erzeugt:"
   ]
  },
  {
   "cell_type": "code",
   "execution_count": 12,
   "id": "144a502a",
   "metadata": {},
   "outputs": [],
   "source": [
    "def alleSchnittkanten():\n",
    "    kanten = []\n",
    "    for (s,z) in autobahn.alleKanten():\n",
    "        if autobahn.knotenIstBesucht(s) and not autobahn.knotenIstBesucht(z):\n",
    "            l = autobahn.getKantenGewicht(s, z)\n",
    "            (ueber, weit) = autobahn.getKnotenMarke(s)\n",
    "            l += weit\n",
    "            kanten.append ([s, z, l])\n",
    "        elif autobahn.knotenIstBesucht(z) and not autobahn.knotenIstBesucht(s):\n",
    "            l = autobahn.getKantenGewicht(z, s)\n",
    "            (ueber, weit) = autobahn.getKnotenMarke(z)\n",
    "            l += weit\n",
    "            kanten.append([z, s, l])\n",
    "\n",
    "    return kanten"
   ]
  },
  {
   "cell_type": "markdown",
   "id": "2b557993",
   "metadata": {},
   "source": [
    "### Markierung von besuchten Knoten"
   ]
  },
  {
   "cell_type": "markdown",
   "id": "9c235e24",
   "metadata": {},
   "source": [
    "Wenn ein Knoten K besucht ist, möchte man den kürzesten Weg vom Start zu K kennen. \n",
    "\n",
    "Kennt man zu jedem besuchten Knoten den Vorgänger auf dem kürzesten Weg, kann der kürzeste Weg rückwärts rekonstruiert werden.\n",
    "\n",
    "Also markieren wir jeden besuchten Knoten K mit einem Tupel, bestehend aus:\n",
    "\n",
    "- Name des Vorgängers V\n",
    "- Länge des kürzesten Weges vom Start über V zu K"
   ]
  },
  {
   "cell_type": "markdown",
   "id": "4b3f9b44",
   "metadata": {},
   "source": [
    "## Dijkstra \"Zu Fuß\" lösen: Von Berlin nach München"
   ]
  },
  {
   "cell_type": "code",
   "execution_count": 13,
   "id": "74c67773",
   "metadata": {},
   "outputs": [],
   "source": [
    "startknoten = \"B\"\n",
    "zielknoten = \"M\""
   ]
  },
  {
   "cell_type": "markdown",
   "id": "e0416bab",
   "metadata": {},
   "source": [
    "### Berlin ist bereits besucht!"
   ]
  },
  {
   "cell_type": "markdown",
   "id": "42e30fa5",
   "metadata": {},
   "source": [
    "Zunächst eine Trivialität:\n",
    "- Möchte man von Berlin nach Berlin reisen, so ist die kürzeste Verbindung über Berlin mit einer Länge von 0.0\n",
    "\n",
    "Also wird Berlin mit einer Flagge und eine Marke der Form (ueber, laenge) versehen:"
   ]
  },
  {
   "cell_type": "code",
   "execution_count": 14,
   "id": "58e51f81",
   "metadata": {},
   "outputs": [],
   "source": [
    "autobahn.besucheKnoten(\"B\")\n",
    "autobahn.markiereKnoten(\"B\", (\"B\", 0.0))"
   ]
  },
  {
   "cell_type": "markdown",
   "id": "c2c61559",
   "metadata": {},
   "source": [
    "Jetzt kann man sich alle geflaggten Knoten mit ihren Marken ansehen.\n",
    "\n",
    "**Schau dir dazu die entsprechende Hilfsfunktion weiter oben an!**"
   ]
  },
  {
   "cell_type": "code",
   "execution_count": 15,
   "id": "e7559a7a",
   "metadata": {},
   "outputs": [
    {
     "data": {
      "text/plain": [
       "[['B', 'B', 0.0]]"
      ]
     },
     "execution_count": 15,
     "metadata": {},
     "output_type": "execute_result"
    }
   ],
   "source": [
    "alleBesuchtenKnoten()"
   ]
  },
  {
   "cell_type": "markdown",
   "id": "445cd955",
   "metadata": {},
   "source": [
    "### Welcher Ort ist Berlin am nächsten?"
   ]
  },
  {
   "cell_type": "markdown",
   "id": "273834f2",
   "metadata": {},
   "source": [
    "**Schau dir auch dazu die entsprechende Hilfsfunktion weiter oben an!**"
   ]
  },
  {
   "cell_type": "code",
   "execution_count": 16,
   "id": "89cadb79",
   "metadata": {},
   "outputs": [
    {
     "data": {
      "text/plain": [
       "[['B', 'SN', 224], ['B', 'P', 35], ['B', 'DD', 193]]"
      ]
     },
     "execution_count": 16,
     "metadata": {},
     "output_type": "execute_result"
    }
   ],
   "source": [
    "kantenVon(\"B\")"
   ]
  },
  {
   "cell_type": "markdown",
   "id": "243c2bcf",
   "metadata": {},
   "source": [
    "Also ist Potsdam derjenige Ort, der von Berlin am nächsten liegt, so dass wir\n",
    "Potsdam als besucht betrachten können.\n",
    "\n",
    "Will man also von Berlin nach Potsdam, dann (mal wieder eine Trivialität) fährt man über Berlin; die Strecke hat\n",
    "eine Länge von 35.0\n",
    "\n",
    "Diese Informationen trägt man ein:"
   ]
  },
  {
   "cell_type": "code",
   "execution_count": 17,
   "id": "6efb91ff",
   "metadata": {},
   "outputs": [],
   "source": [
    "autobahn.besucheKnoten(\"P\")\n",
    "autobahn.markiereKnoten(\"P\", (\"B\", 35.0))"
   ]
  },
  {
   "cell_type": "markdown",
   "id": "0c6643ae",
   "metadata": {},
   "source": [
    "Zur Kontrolle:"
   ]
  },
  {
   "cell_type": "code",
   "execution_count": 18,
   "id": "a7462d5b",
   "metadata": {},
   "outputs": [
    {
     "data": {
      "text/plain": [
       "[['P', 'B', 35.0], ['B', 'B', 0.0]]"
      ]
     },
     "execution_count": 18,
     "metadata": {},
     "output_type": "execute_result"
    }
   ],
   "source": [
    "alleBesuchtenKnoten()"
   ]
  },
  {
   "cell_type": "markdown",
   "id": "856956b9",
   "metadata": {},
   "source": [
    "### Jetzt geht's weiter: von Berlin oder von Potsdam?"
   ]
  },
  {
   "cell_type": "markdown",
   "id": "a530b377",
   "metadata": {},
   "source": [
    "Man kann jetzt entweder \n",
    "- von Berlin aus direkt \n",
    "- oder von Berlin über Potsdam \n",
    "\n",
    "weiterfahren zu einem Ort, der möglichst nahe ist."
   ]
  },
  {
   "cell_type": "markdown",
   "id": "7d3bb016",
   "metadata": {},
   "source": [
    "***Definition*** Kanten, die einen besuchten mit einem unbesuchten Ort verbinden, nennt man **Schnittkanten**"
   ]
  },
  {
   "cell_type": "markdown",
   "id": "269a7143",
   "metadata": {},
   "source": [
    "Also suchen wir zunächst alle Orte (mitsamt Entfernungen), die von Berlin direkt erreichbar sind. \n",
    "Dabei lassen wir natürlich den bereits besuchten Ort Potsdam aus:"
   ]
  },
  {
   "cell_type": "code",
   "execution_count": 19,
   "id": "f0c8c5a7",
   "metadata": {},
   "outputs": [
    {
     "data": {
      "text/plain": [
       "[['B', 'SN', 224], ['B', 'DD', 193]]"
      ]
     },
     "execution_count": 19,
     "metadata": {},
     "output_type": "execute_result"
    }
   ],
   "source": [
    "lokaleSchnittkantenVon(\"B\")"
   ]
  },
  {
   "cell_type": "markdown",
   "id": "a64fe1c7",
   "metadata": {},
   "source": [
    "Jedoch müssen wir auch Schnittkanten - ausgehend von Potsdam - betrachten. Dabei ist aber zu beachten, dass ein Ort X, der von Potsdam direkt erreichbar ist, eine Gesamtroute der Form \n",
    "\n",
    "- Berlin - Potsdam - X\n",
    "\n",
    "hat, so dass die Weglänge sich dann zusammensetzt aus der Länge von (Berlin - Potsdam) und der Länge (Potsdam - X)."
   ]
  },
  {
   "cell_type": "code",
   "execution_count": 20,
   "id": "06bddeed",
   "metadata": {},
   "outputs": [
    {
     "data": {
      "text/plain": [
       "[['B', 'SN', 224.0],\n",
       " ['P', 'H', 299.0],\n",
       " ['P', 'EF', 316.0],\n",
       " ['P', 'MD', 169.0],\n",
       " ['B', 'DD', 193.0]]"
      ]
     },
     "execution_count": 20,
     "metadata": {},
     "output_type": "execute_result"
    }
   ],
   "source": [
    "alleSchnittkanten()"
   ]
  },
  {
   "cell_type": "markdown",
   "id": "3ea7b39a",
   "metadata": {},
   "source": [
    "Das ergibt also insgesamt 5 Schnittkanten:\n",
    "\n",
    "1. 'Berlin' - 'Schwerin', 224.0,\n",
    "1. 'Potsdam' - 'Hannover', 299.0,\n",
    "1. 'Potsdam' - 'Erfurt', 316.0,\n",
    "1. 'Potsdam' - 'Magdeburg', 169.0,\n",
    "1. 'Berlin' - 'Dresden', 193.0\n",
    "\n",
    "und damit 5 Routen von Berlin aus:\n",
    "\n",
    "1. 'Berlin', 'Schwerin', 224.0,\n",
    "1. 'Berlin' - 'Potsdam - 'Hannover', 299.0,\n",
    "1. 'Berlin' - 'Potsdam' - 'Erfurt', 316.0,\n",
    "1. 'Berlin' - 'Potsdam' - 'Magdeburg', 169.0,\n",
    "1. 'Berlin', 'Dresden', 193.0\n",
    "\n",
    "\n",
    "Die Route nach Magdeburg (über Potsdam) ist also die kürzeste. Das müssen wir jetzt eintragen:"
   ]
  },
  {
   "cell_type": "code",
   "execution_count": 21,
   "id": "aad01058",
   "metadata": {},
   "outputs": [],
   "source": [
    "autobahn.besucheKnoten(\"MD\")\n",
    "autobahn.markiereKnoten(\"MD\", (\"P\", 169.0))"
   ]
  },
  {
   "cell_type": "markdown",
   "id": "6ae27c99",
   "metadata": {},
   "source": [
    "Auch hier die Kontrolle:"
   ]
  },
  {
   "cell_type": "code",
   "execution_count": 22,
   "id": "844f7c95",
   "metadata": {},
   "outputs": [
    {
     "data": {
      "text/plain": [
       "[['MD', 'P', 169.0], ['P', 'B', 35.0], ['B', 'B', 0.0]]"
      ]
     },
     "execution_count": 22,
     "metadata": {},
     "output_type": "execute_result"
    }
   ],
   "source": [
    "alleBesuchtenKnoten()"
   ]
  },
  {
   "cell_type": "markdown",
   "id": "6ee754fa",
   "metadata": {},
   "source": [
    "### Jetzt ist alles klar!?"
   ]
  },
  {
   "cell_type": "markdown",
   "id": "5bd2c643",
   "metadata": {},
   "source": [
    "***Aufgabe***: \n",
    "\n",
    "Setze das Verfahren fort."
   ]
  },
  {
   "cell_type": "markdown",
   "id": "5964dfe3",
   "metadata": {},
   "source": [
    "## Ab hier die schrittweise Lösung\n",
    "\n",
    "***Also bitte nur ansehen, falls nötig!***"
   ]
  },
  {
   "cell_type": "code",
   "execution_count": 23,
   "id": "023b99b7",
   "metadata": {},
   "outputs": [
    {
     "data": {
      "text/plain": [
       "[['B', 'SN', 224.0],\n",
       " ['MD', 'H', 315.0],\n",
       " ['P', 'H', 299.0],\n",
       " ['MD', 'EF', 339.0],\n",
       " ['P', 'EF', 316.0],\n",
       " ['B', 'DD', 193.0]]"
      ]
     },
     "execution_count": 23,
     "metadata": {},
     "output_type": "execute_result"
    }
   ],
   "source": [
    "alleSchnittkanten()"
   ]
  },
  {
   "cell_type": "code",
   "execution_count": 24,
   "id": "67ace9a2",
   "metadata": {},
   "outputs": [],
   "source": [
    "autobahn.besucheKnoten(\"DD\")\n",
    "autobahn.markiereKnoten(\"DD\", (\"B\", 193.0))"
   ]
  },
  {
   "cell_type": "code",
   "execution_count": 25,
   "id": "f08b33ec",
   "metadata": {},
   "outputs": [
    {
     "data": {
      "text/plain": [
       "[['MD', 'P', 169.0], ['P', 'B', 35.0], ['B', 'B', 0.0], ['DD', 'B', 193.0]]"
      ]
     },
     "execution_count": 25,
     "metadata": {},
     "output_type": "execute_result"
    }
   ],
   "source": [
    "alleBesuchtenKnoten()"
   ]
  },
  {
   "cell_type": "code",
   "execution_count": 26,
   "id": "20f56567",
   "metadata": {},
   "outputs": [
    {
     "data": {
      "text/plain": [
       "[['B', 'SN', 224.0],\n",
       " ['MD', 'H', 315.0],\n",
       " ['P', 'H', 299.0],\n",
       " ['DD', 'MZ', 691.0],\n",
       " ['MD', 'EF', 339.0],\n",
       " ['P', 'EF', 316.0],\n",
       " ['DD', 'EF', 408.0],\n",
       " ['DD', 'S', 700.0],\n",
       " ['DD', 'M', 653.0]]"
      ]
     },
     "execution_count": 26,
     "metadata": {},
     "output_type": "execute_result"
    }
   ],
   "source": [
    "alleSchnittkanten()"
   ]
  },
  {
   "cell_type": "code",
   "execution_count": 27,
   "id": "1878341a",
   "metadata": {},
   "outputs": [],
   "source": [
    "autobahn.besucheKnoten(\"SN\")\n",
    "autobahn.markiereKnoten(\"SN\", (\"B\", 224.0))"
   ]
  },
  {
   "cell_type": "code",
   "execution_count": 28,
   "id": "c63b0cba",
   "metadata": {},
   "outputs": [
    {
     "data": {
      "text/plain": [
       "[['SN', 'B', 224.0],\n",
       " ['MD', 'P', 169.0],\n",
       " ['P', 'B', 35.0],\n",
       " ['B', 'B', 0.0],\n",
       " ['DD', 'B', 193.0]]"
      ]
     },
     "execution_count": 28,
     "metadata": {},
     "output_type": "execute_result"
    }
   ],
   "source": [
    "alleBesuchtenKnoten()"
   ]
  },
  {
   "cell_type": "code",
   "execution_count": 29,
   "id": "34cd639b",
   "metadata": {},
   "outputs": [
    {
     "data": {
      "text/plain": [
       "[['SN', 'KI', 384.0],\n",
       " ['SN', 'HH', 334.0],\n",
       " ['MD', 'H', 315.0],\n",
       " ['P', 'H', 299.0],\n",
       " ['DD', 'MZ', 691.0],\n",
       " ['MD', 'EF', 339.0],\n",
       " ['P', 'EF', 316.0],\n",
       " ['DD', 'EF', 408.0],\n",
       " ['DD', 'S', 700.0],\n",
       " ['DD', 'M', 653.0]]"
      ]
     },
     "execution_count": 29,
     "metadata": {},
     "output_type": "execute_result"
    }
   ],
   "source": [
    "alleSchnittkanten()"
   ]
  },
  {
   "cell_type": "code",
   "execution_count": 30,
   "id": "38ed87a7",
   "metadata": {},
   "outputs": [],
   "source": [
    "autobahn.besucheKnoten(\"H\")\n",
    "autobahn.markiereKnoten(\"H\", (\"P\", 299.0))"
   ]
  },
  {
   "cell_type": "code",
   "execution_count": 31,
   "id": "1db92a59",
   "metadata": {},
   "outputs": [
    {
     "data": {
      "text/plain": [
       "[['SN', 'B', 224.0],\n",
       " ['H', 'P', 299.0],\n",
       " ['MD', 'P', 169.0],\n",
       " ['P', 'B', 35.0],\n",
       " ['B', 'B', 0.0],\n",
       " ['DD', 'B', 193.0]]"
      ]
     },
     "execution_count": 31,
     "metadata": {},
     "output_type": "execute_result"
    }
   ],
   "source": [
    "alleBesuchtenKnoten()"
   ]
  },
  {
   "cell_type": "code",
   "execution_count": 32,
   "id": "c3fed57a",
   "metadata": {},
   "outputs": [
    {
     "data": {
      "text/plain": [
       "[['SN', 'KI', 384.0],\n",
       " ['SN', 'HH', 334.0],\n",
       " ['H', 'HH', 458.0],\n",
       " ['H', 'HB', 426.0],\n",
       " ['H', 'BI', 389.0],\n",
       " ['H', 'WI', 673.0],\n",
       " ['H', 'EF', 548.0],\n",
       " ['DD', 'MZ', 691.0],\n",
       " ['MD', 'EF', 339.0],\n",
       " ['P', 'EF', 316.0],\n",
       " ['DD', 'EF', 408.0],\n",
       " ['DD', 'S', 700.0],\n",
       " ['DD', 'M', 653.0]]"
      ]
     },
     "execution_count": 32,
     "metadata": {},
     "output_type": "execute_result"
    }
   ],
   "source": [
    "alleSchnittkanten()"
   ]
  },
  {
   "cell_type": "code",
   "execution_count": 33,
   "id": "85112aa0",
   "metadata": {},
   "outputs": [],
   "source": [
    "autobahn.besucheKnoten(\"EF\")\n",
    "autobahn.markiereKnoten(\"EF\", (\"P\", 316.0))"
   ]
  },
  {
   "cell_type": "code",
   "execution_count": 34,
   "id": "73633bde",
   "metadata": {},
   "outputs": [
    {
     "data": {
      "text/plain": [
       "[['SN', 'B', 224.0],\n",
       " ['H', 'P', 299.0],\n",
       " ['EF', 'P', 316.0],\n",
       " ['MD', 'P', 169.0],\n",
       " ['P', 'B', 35.0],\n",
       " ['B', 'B', 0.0],\n",
       " ['DD', 'B', 193.0]]"
      ]
     },
     "execution_count": 34,
     "metadata": {},
     "output_type": "execute_result"
    }
   ],
   "source": [
    "alleBesuchtenKnoten()"
   ]
  },
  {
   "cell_type": "code",
   "execution_count": 35,
   "id": "512986eb",
   "metadata": {},
   "outputs": [
    {
     "data": {
      "text/plain": [
       "[['SN', 'KI', 384.0],\n",
       " ['SN', 'HH', 334.0],\n",
       " ['H', 'HH', 458.0],\n",
       " ['H', 'HB', 426.0],\n",
       " ['H', 'BI', 389.0],\n",
       " ['H', 'WI', 673.0],\n",
       " ['EF', 'WI', 599.0],\n",
       " ['DD', 'MZ', 691.0],\n",
       " ['DD', 'S', 700.0],\n",
       " ['DD', 'M', 653.0]]"
      ]
     },
     "execution_count": 35,
     "metadata": {},
     "output_type": "execute_result"
    }
   ],
   "source": [
    "alleSchnittkanten()"
   ]
  },
  {
   "cell_type": "code",
   "execution_count": 36,
   "id": "280b86ca",
   "metadata": {},
   "outputs": [],
   "source": [
    "autobahn.besucheKnoten(\"HH\")\n",
    "autobahn.markiereKnoten(\"HH\", (\"SN\", 334.0))"
   ]
  },
  {
   "cell_type": "code",
   "execution_count": 37,
   "id": "136fe2d2",
   "metadata": {},
   "outputs": [
    {
     "data": {
      "text/plain": [
       "[['SN', 'B', 224.0],\n",
       " ['HH', 'SN', 334.0],\n",
       " ['H', 'P', 299.0],\n",
       " ['EF', 'P', 316.0],\n",
       " ['MD', 'P', 169.0],\n",
       " ['P', 'B', 35.0],\n",
       " ['B', 'B', 0.0],\n",
       " ['DD', 'B', 193.0]]"
      ]
     },
     "execution_count": 37,
     "metadata": {},
     "output_type": "execute_result"
    }
   ],
   "source": [
    "alleBesuchtenKnoten()"
   ]
  },
  {
   "cell_type": "code",
   "execution_count": 38,
   "id": "9be071eb",
   "metadata": {},
   "outputs": [
    {
     "data": {
      "text/plain": [
       "[['SN', 'KI', 384.0],\n",
       " ['HH', 'KI', 431.0],\n",
       " ['HH', 'HB', 460.0],\n",
       " ['H', 'HB', 426.0],\n",
       " ['H', 'BI', 389.0],\n",
       " ['H', 'WI', 673.0],\n",
       " ['EF', 'WI', 599.0],\n",
       " ['DD', 'MZ', 691.0],\n",
       " ['DD', 'S', 700.0],\n",
       " ['DD', 'M', 653.0]]"
      ]
     },
     "execution_count": 38,
     "metadata": {},
     "output_type": "execute_result"
    }
   ],
   "source": [
    "alleSchnittkanten()"
   ]
  },
  {
   "cell_type": "code",
   "execution_count": 39,
   "id": "6fee8332",
   "metadata": {},
   "outputs": [],
   "source": [
    "autobahn.besucheKnoten(\"KI\")\n",
    "autobahn.markiereKnoten(\"KI\", (\"SN\", 384.0))"
   ]
  },
  {
   "cell_type": "code",
   "execution_count": 40,
   "id": "6cb1c4ae",
   "metadata": {},
   "outputs": [
    {
     "data": {
      "text/plain": [
       "[['KI', 'SN', 384.0],\n",
       " ['SN', 'B', 224.0],\n",
       " ['HH', 'SN', 334.0],\n",
       " ['H', 'P', 299.0],\n",
       " ['EF', 'P', 316.0],\n",
       " ['MD', 'P', 169.0],\n",
       " ['P', 'B', 35.0],\n",
       " ['B', 'B', 0.0],\n",
       " ['DD', 'B', 193.0]]"
      ]
     },
     "execution_count": 40,
     "metadata": {},
     "output_type": "execute_result"
    }
   ],
   "source": [
    "alleBesuchtenKnoten()"
   ]
  },
  {
   "cell_type": "code",
   "execution_count": 41,
   "id": "09620d6a",
   "metadata": {},
   "outputs": [
    {
     "data": {
      "text/plain": [
       "[['KI', 'HB', 595.0],\n",
       " ['HH', 'HB', 460.0],\n",
       " ['H', 'HB', 426.0],\n",
       " ['H', 'BI', 389.0],\n",
       " ['H', 'WI', 673.0],\n",
       " ['EF', 'WI', 599.0],\n",
       " ['DD', 'MZ', 691.0],\n",
       " ['DD', 'S', 700.0],\n",
       " ['DD', 'M', 653.0]]"
      ]
     },
     "execution_count": 41,
     "metadata": {},
     "output_type": "execute_result"
    }
   ],
   "source": [
    "alleSchnittkanten()"
   ]
  },
  {
   "cell_type": "code",
   "execution_count": 42,
   "id": "435eb56c",
   "metadata": {},
   "outputs": [],
   "source": [
    "autobahn.besucheKnoten(\"BI\")\n",
    "autobahn.markiereKnoten(\"BI\", (\"H\", 389.0))"
   ]
  },
  {
   "cell_type": "code",
   "execution_count": 43,
   "id": "9ffbec6e",
   "metadata": {},
   "outputs": [
    {
     "data": {
      "text/plain": [
       "[['KI', 'SN', 384.0],\n",
       " ['SN', 'B', 224.0],\n",
       " ['HH', 'SN', 334.0],\n",
       " ['H', 'P', 299.0],\n",
       " ['BI', 'H', 389.0],\n",
       " ['EF', 'P', 316.0],\n",
       " ['MD', 'P', 169.0],\n",
       " ['P', 'B', 35.0],\n",
       " ['B', 'B', 0.0],\n",
       " ['DD', 'B', 193.0]]"
      ]
     },
     "execution_count": 43,
     "metadata": {},
     "output_type": "execute_result"
    }
   ],
   "source": [
    "alleBesuchtenKnoten()"
   ]
  },
  {
   "cell_type": "code",
   "execution_count": 44,
   "id": "1fbe9a3e",
   "metadata": {},
   "outputs": [
    {
     "data": {
      "text/plain": [
       "[['KI', 'HB', 595.0],\n",
       " ['HH', 'HB', 460.0],\n",
       " ['H', 'HB', 426.0],\n",
       " ['BI', 'HAM', 469.0],\n",
       " ['H', 'WI', 673.0],\n",
       " ['EF', 'WI', 599.0],\n",
       " ['DD', 'MZ', 691.0],\n",
       " ['DD', 'S', 700.0],\n",
       " ['DD', 'M', 653.0]]"
      ]
     },
     "execution_count": 44,
     "metadata": {},
     "output_type": "execute_result"
    }
   ],
   "source": [
    "alleSchnittkanten()"
   ]
  },
  {
   "cell_type": "code",
   "execution_count": 45,
   "id": "7ce8fe01",
   "metadata": {},
   "outputs": [],
   "source": [
    "autobahn.besucheKnoten(\"HB\")\n",
    "autobahn.markiereKnoten(\"HB\", (\"H\", 426.0))"
   ]
  },
  {
   "cell_type": "code",
   "execution_count": 46,
   "id": "e70b1d24",
   "metadata": {},
   "outputs": [
    {
     "data": {
      "text/plain": [
       "[['KI', 'SN', 384.0],\n",
       " ['SN', 'B', 224.0],\n",
       " ['HH', 'SN', 334.0],\n",
       " ['HB', 'H', 426.0],\n",
       " ['H', 'P', 299.0],\n",
       " ['BI', 'H', 389.0],\n",
       " ['EF', 'P', 316.0],\n",
       " ['MD', 'P', 169.0],\n",
       " ['P', 'B', 35.0],\n",
       " ['B', 'B', 0.0],\n",
       " ['DD', 'B', 193.0]]"
      ]
     },
     "execution_count": 46,
     "metadata": {},
     "output_type": "execute_result"
    }
   ],
   "source": [
    "alleBesuchtenKnoten()"
   ]
  },
  {
   "cell_type": "code",
   "execution_count": 47,
   "id": "7ec85fce",
   "metadata": {},
   "outputs": [
    {
     "data": {
      "text/plain": [
       "[['HB', 'MS', 546.0],\n",
       " ['BI', 'HAM', 469.0],\n",
       " ['H', 'WI', 673.0],\n",
       " ['EF', 'WI', 599.0],\n",
       " ['DD', 'MZ', 691.0],\n",
       " ['DD', 'S', 700.0],\n",
       " ['DD', 'M', 653.0]]"
      ]
     },
     "execution_count": 47,
     "metadata": {},
     "output_type": "execute_result"
    }
   ],
   "source": [
    "alleSchnittkanten()"
   ]
  },
  {
   "cell_type": "code",
   "execution_count": 48,
   "id": "3d29aa93",
   "metadata": {},
   "outputs": [],
   "source": [
    "autobahn.besucheKnoten(\"HAM\")\n",
    "autobahn.markiereKnoten(\"HAM\", (\"BI\", 469.0))"
   ]
  },
  {
   "cell_type": "code",
   "execution_count": 49,
   "id": "3dcde849",
   "metadata": {},
   "outputs": [
    {
     "data": {
      "text/plain": [
       "[['KI', 'SN', 384.0],\n",
       " ['SN', 'B', 224.0],\n",
       " ['HH', 'SN', 334.0],\n",
       " ['HB', 'H', 426.0],\n",
       " ['HAM', 'BI', 469.0],\n",
       " ['H', 'P', 299.0],\n",
       " ['BI', 'H', 389.0],\n",
       " ['EF', 'P', 316.0],\n",
       " ['MD', 'P', 169.0],\n",
       " ['P', 'B', 35.0],\n",
       " ['B', 'B', 0.0],\n",
       " ['DD', 'B', 193.0]]"
      ]
     },
     "execution_count": 49,
     "metadata": {},
     "output_type": "execute_result"
    }
   ],
   "source": [
    "alleBesuchtenKnoten()"
   ]
  },
  {
   "cell_type": "code",
   "execution_count": 50,
   "id": "2b9a7d86",
   "metadata": {},
   "outputs": [
    {
     "data": {
      "text/plain": [
       "[['HB', 'MS', 546.0],\n",
       " ['HAM', 'MS', 539.0],\n",
       " ['HAM', 'D', 579.0],\n",
       " ['H', 'WI', 673.0],\n",
       " ['EF', 'WI', 599.0],\n",
       " ['DD', 'MZ', 691.0],\n",
       " ['DD', 'S', 700.0],\n",
       " ['DD', 'M', 653.0]]"
      ]
     },
     "execution_count": 50,
     "metadata": {},
     "output_type": "execute_result"
    }
   ],
   "source": [
    "alleSchnittkanten()"
   ]
  },
  {
   "cell_type": "code",
   "execution_count": 51,
   "id": "dec0a201",
   "metadata": {},
   "outputs": [],
   "source": [
    "autobahn.besucheKnoten(\"MS\")\n",
    "autobahn.markiereKnoten(\"MS\", (\"HAM\", 539.0))"
   ]
  },
  {
   "cell_type": "code",
   "execution_count": 52,
   "id": "4c16f1a4",
   "metadata": {},
   "outputs": [
    {
     "data": {
      "text/plain": [
       "[['KI', 'SN', 384.0],\n",
       " ['SN', 'B', 224.0],\n",
       " ['HH', 'SN', 334.0],\n",
       " ['HB', 'H', 426.0],\n",
       " ['HAM', 'BI', 469.0],\n",
       " ['MS', 'HAM', 539.0],\n",
       " ['H', 'P', 299.0],\n",
       " ['BI', 'H', 389.0],\n",
       " ['EF', 'P', 316.0],\n",
       " ['MD', 'P', 169.0],\n",
       " ['P', 'B', 35.0],\n",
       " ['B', 'B', 0.0],\n",
       " ['DD', 'B', 193.0]]"
      ]
     },
     "execution_count": 52,
     "metadata": {},
     "output_type": "execute_result"
    }
   ],
   "source": [
    "alleBesuchtenKnoten()"
   ]
  },
  {
   "cell_type": "code",
   "execution_count": 53,
   "id": "ffa0d6ee",
   "metadata": {},
   "outputs": [
    {
     "data": {
      "text/plain": [
       "[['HAM', 'D', 579.0],\n",
       " ['H', 'WI', 673.0],\n",
       " ['EF', 'WI', 599.0],\n",
       " ['DD', 'MZ', 691.0],\n",
       " ['DD', 'S', 700.0],\n",
       " ['DD', 'M', 653.0]]"
      ]
     },
     "execution_count": 53,
     "metadata": {},
     "output_type": "execute_result"
    }
   ],
   "source": [
    "alleSchnittkanten()"
   ]
  },
  {
   "cell_type": "code",
   "execution_count": 54,
   "id": "b0aae5f5",
   "metadata": {},
   "outputs": [],
   "source": [
    "autobahn.besucheKnoten(\"D\")\n",
    "autobahn.markiereKnoten(\"D\", (\"HAM\", 579.0))"
   ]
  },
  {
   "cell_type": "code",
   "execution_count": 55,
   "id": "d62fdff9",
   "metadata": {},
   "outputs": [
    {
     "data": {
      "text/plain": [
       "[['KI', 'SN', 384.0],\n",
       " ['SN', 'B', 224.0],\n",
       " ['HH', 'SN', 334.0],\n",
       " ['HB', 'H', 426.0],\n",
       " ['HAM', 'BI', 469.0],\n",
       " ['MS', 'HAM', 539.0],\n",
       " ['H', 'P', 299.0],\n",
       " ['BI', 'H', 389.0],\n",
       " ['D', 'HAM', 579.0],\n",
       " ['EF', 'P', 316.0],\n",
       " ['MD', 'P', 169.0],\n",
       " ['P', 'B', 35.0],\n",
       " ['B', 'B', 0.0],\n",
       " ['DD', 'B', 193.0]]"
      ]
     },
     "execution_count": 55,
     "metadata": {},
     "output_type": "execute_result"
    }
   ],
   "source": [
    "alleBesuchtenKnoten()"
   ]
  },
  {
   "cell_type": "code",
   "execution_count": 56,
   "id": "d417205c",
   "metadata": {},
   "outputs": [
    {
     "data": {
      "text/plain": [
       "[['H', 'WI', 673.0],\n",
       " ['D', 'WI', 791.0],\n",
       " ['EF', 'WI', 599.0],\n",
       " ['DD', 'MZ', 691.0],\n",
       " ['DD', 'S', 700.0],\n",
       " ['DD', 'M', 653.0]]"
      ]
     },
     "execution_count": 56,
     "metadata": {},
     "output_type": "execute_result"
    }
   ],
   "source": [
    "alleSchnittkanten()"
   ]
  },
  {
   "cell_type": "code",
   "execution_count": 57,
   "id": "6a433311",
   "metadata": {},
   "outputs": [],
   "source": [
    "autobahn.besucheKnoten(\"WI\")\n",
    "autobahn.markiereKnoten(\"WI\", (\"EF\", 599.0))"
   ]
  },
  {
   "cell_type": "code",
   "execution_count": 58,
   "id": "3f5a3795",
   "metadata": {},
   "outputs": [
    {
     "data": {
      "text/plain": [
       "[['KI', 'SN', 384.0],\n",
       " ['SN', 'B', 224.0],\n",
       " ['HH', 'SN', 334.0],\n",
       " ['HB', 'H', 426.0],\n",
       " ['HAM', 'BI', 469.0],\n",
       " ['MS', 'HAM', 539.0],\n",
       " ['H', 'P', 299.0],\n",
       " ['BI', 'H', 389.0],\n",
       " ['D', 'HAM', 579.0],\n",
       " ['WI', 'EF', 599.0],\n",
       " ['EF', 'P', 316.0],\n",
       " ['MD', 'P', 169.0],\n",
       " ['P', 'B', 35.0],\n",
       " ['B', 'B', 0.0],\n",
       " ['DD', 'B', 193.0]]"
      ]
     },
     "execution_count": 58,
     "metadata": {},
     "output_type": "execute_result"
    }
   ],
   "source": [
    "alleBesuchtenKnoten()"
   ]
  },
  {
   "cell_type": "code",
   "execution_count": 59,
   "id": "ff756624",
   "metadata": {},
   "outputs": [
    {
     "data": {
      "text/plain": [
       "[['WI', 'MZ', 607.0],\n",
       " ['DD', 'MZ', 691.0],\n",
       " ['DD', 'S', 700.0],\n",
       " ['DD', 'M', 653.0]]"
      ]
     },
     "execution_count": 59,
     "metadata": {},
     "output_type": "execute_result"
    }
   ],
   "source": [
    "alleSchnittkanten()"
   ]
  },
  {
   "cell_type": "code",
   "execution_count": 60,
   "id": "96c019d6",
   "metadata": {},
   "outputs": [],
   "source": [
    "autobahn.besucheKnoten(\"MZ\")\n",
    "autobahn.markiereKnoten(\"MZ\", (\"WI\", 607.0))"
   ]
  },
  {
   "cell_type": "code",
   "execution_count": 61,
   "id": "26ae2fdc",
   "metadata": {},
   "outputs": [
    {
     "data": {
      "text/plain": [
       "[['KI', 'SN', 384.0],\n",
       " ['SN', 'B', 224.0],\n",
       " ['HH', 'SN', 334.0],\n",
       " ['HB', 'H', 426.0],\n",
       " ['HAM', 'BI', 469.0],\n",
       " ['MS', 'HAM', 539.0],\n",
       " ['H', 'P', 299.0],\n",
       " ['BI', 'H', 389.0],\n",
       " ['D', 'HAM', 579.0],\n",
       " ['WI', 'EF', 599.0],\n",
       " ['MZ', 'WI', 607.0],\n",
       " ['EF', 'P', 316.0],\n",
       " ['MD', 'P', 169.0],\n",
       " ['P', 'B', 35.0],\n",
       " ['B', 'B', 0.0],\n",
       " ['DD', 'B', 193.0]]"
      ]
     },
     "execution_count": 61,
     "metadata": {},
     "output_type": "execute_result"
    }
   ],
   "source": [
    "alleBesuchtenKnoten()"
   ]
  },
  {
   "cell_type": "code",
   "execution_count": 62,
   "id": "a112554b",
   "metadata": {},
   "outputs": [
    {
     "data": {
      "text/plain": [
       "[['MZ', 'SB', 758.0], ['DD', 'S', 700.0], ['DD', 'M', 653.0]]"
      ]
     },
     "execution_count": 62,
     "metadata": {},
     "output_type": "execute_result"
    }
   ],
   "source": [
    "alleSchnittkanten()"
   ]
  },
  {
   "cell_type": "code",
   "execution_count": 63,
   "id": "3cbda842",
   "metadata": {},
   "outputs": [],
   "source": [
    "autobahn.besucheKnoten(\"M\")\n",
    "autobahn.markiereKnoten(\"M\", (\"DD\", 653.0))"
   ]
  },
  {
   "cell_type": "code",
   "execution_count": 64,
   "id": "86e17948",
   "metadata": {
    "scrolled": true
   },
   "outputs": [
    {
     "data": {
      "text/plain": [
       "[['KI', 'SN', 384.0],\n",
       " ['SN', 'B', 224.0],\n",
       " ['HH', 'SN', 334.0],\n",
       " ['HB', 'H', 426.0],\n",
       " ['HAM', 'BI', 469.0],\n",
       " ['MS', 'HAM', 539.0],\n",
       " ['H', 'P', 299.0],\n",
       " ['BI', 'H', 389.0],\n",
       " ['D', 'HAM', 579.0],\n",
       " ['WI', 'EF', 599.0],\n",
       " ['MZ', 'WI', 607.0],\n",
       " ['EF', 'P', 316.0],\n",
       " ['MD', 'P', 169.0],\n",
       " ['P', 'B', 35.0],\n",
       " ['B', 'B', 0.0],\n",
       " ['DD', 'B', 193.0],\n",
       " ['M', 'DD', 653.0]]"
      ]
     },
     "execution_count": 64,
     "metadata": {},
     "output_type": "execute_result"
    }
   ],
   "source": [
    "alleBesuchtenKnoten()"
   ]
  },
  {
   "cell_type": "markdown",
   "id": "1b2ee830",
   "metadata": {},
   "source": [
    "### Wir sind in München angekommen!"
   ]
  },
  {
   "cell_type": "markdown",
   "id": "a16cb3aa",
   "metadata": {},
   "source": [
    "Wir können jetzt den Weg von Berlin nach München erkennen, indem wir quasi rückwärts laufen:\n",
    "\n",
    "- von Dresden nach München\n",
    "- von Berlin nach Dresden\n",
    "\n",
    "Insgesamt hat der kürzeste Weg Berlin - Dresden - München eine Länge von 653.0 km"
   ]
  },
  {
   "cell_type": "markdown",
   "id": "f67b2592",
   "metadata": {},
   "source": [
    "### Wir können auch den besten Weg von Berlin nach Münster finden:"
   ]
  },
  {
   "cell_type": "markdown",
   "id": "daa909ab",
   "metadata": {},
   "source": [
    "- von Hamm nach Münster\n",
    "- von Bielefeld nach Hamm\n",
    "- von Hannover nach Bielefeld\n",
    "- von Potsdfam nach Hannover\n",
    "- von Berlin nach Postdam\n",
    "\n",
    "Nach Münster sind es also 539 km:\n",
    "\n",
    "Berlin - Potsdam - Hannover - Bielefeld - Hamm - Münster"
   ]
  }
 ],
 "metadata": {
  "hide_input": false,
  "kernelspec": {
   "display_name": "Python 3 (ipykernel)",
   "language": "python",
   "name": "python3"
  },
  "language_info": {
   "codemirror_mode": {
    "name": "ipython",
    "version": 3
   },
   "file_extension": ".py",
   "mimetype": "text/x-python",
   "name": "python",
   "nbconvert_exporter": "python",
   "pygments_lexer": "ipython3",
   "version": "3.10.9"
  },
  "latex_envs": {
   "LaTeX_envs_menu_present": true,
   "autoclose": false,
   "autocomplete": true,
   "bibliofile": "biblio.bib",
   "cite_by": "apalike",
   "current_citInitial": 1,
   "eqLabelWithNumbers": true,
   "eqNumInitial": 1,
   "hotkeys": {
    "equation": "Ctrl-E",
    "itemize": "Ctrl-I"
   },
   "labels_anchors": false,
   "latex_user_defs": false,
   "report_style_numbering": false,
   "user_envs_cfg": false
  },
  "toc": {
   "base_numbering": 1,
   "nav_menu": {},
   "number_sections": true,
   "sideBar": true,
   "skip_h1_title": true,
   "title_cell": "Inhalt",
   "title_sidebar": "Inhalt",
   "toc_cell": false,
   "toc_position": {
    "height": "582px",
    "left": "92px",
    "top": "111.133px",
    "width": "258px"
   },
   "toc_section_display": true,
   "toc_window_display": true
  },
  "varInspector": {
   "cols": {
    "lenName": 16,
    "lenType": 16,
    "lenVar": 40
   },
   "kernels_config": {
    "python": {
     "delete_cmd_postfix": "",
     "delete_cmd_prefix": "del ",
     "library": "var_list.py",
     "varRefreshCmd": "print(var_dic_list())"
    },
    "r": {
     "delete_cmd_postfix": ") ",
     "delete_cmd_prefix": "rm(",
     "library": "var_list.r",
     "varRefreshCmd": "cat(var_dic_list()) "
    }
   },
   "types_to_exclude": [
    "module",
    "function",
    "builtin_function_or_method",
    "instance",
    "_Feature"
   ],
   "window_display": false
  }
 },
 "nbformat": 4,
 "nbformat_minor": 5
}
